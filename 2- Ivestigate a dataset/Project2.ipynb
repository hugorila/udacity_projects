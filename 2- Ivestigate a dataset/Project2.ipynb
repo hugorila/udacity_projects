{
 "cells": [
  {
   "cell_type": "markdown",
   "metadata": {},
   "source": [
    "\n",
    "# Project 2: Appointmens data of brazilian clinic\n",
    "\n",
    "## Table of Contents\n",
    "<ul>\n",
    "<li><a href=\"#intro\">Introduction</a></li>\n",
    "<li><a href=\"#wrangling\">Data Wrangling</a></li>\n",
    "<li><a href=\"#eda\">Exploratory Data Analysis</a></li>\n",
    "<li><a href=\"#conclusions\">Conclusions</a></li>\n",
    "</ul>"
   ]
  },
  {
   "cell_type": "markdown",
   "metadata": {},
   "source": [
    "<a id='intro'></a>\n",
    "## Introduction\n",
    "\n",
    ">In this datset we have informations about medical appointments in Brazil at the years of 2015 and 2016, the data describes the patient day of schedule and appointment, confirms if him/her showed up or not and have other variables related to the patient, like diseases, age, government bennefit etc.\n",
    "> We are going to analise what variables are related with the patient showing up or not and the desiases\n",
    ">Those who receive the government benefit are more likely to show up? The waiting days have some influence on it? the SMS system is working good? And what about the diseases, it has some relation with the age of the patients, or the gender?"
   ]
  },
  {
   "cell_type": "code",
   "execution_count": 1,
   "metadata": {},
   "outputs": [],
   "source": [
    "import pandas as pd\n",
    "from datetime import datetime as dt\n",
    "import numpy as np\n",
    "import matplotlib.pyplot as plt\n",
    "import seaborn as sns\n",
    "%matplotlib inline"
   ]
  },
  {
   "cell_type": "code",
   "execution_count": 2,
   "metadata": {},
   "outputs": [],
   "source": [
    "df = pd.read_csv('noshowappointments-kagglev2-may-2016.csv')"
   ]
  },
  {
   "cell_type": "markdown",
   "metadata": {},
   "source": [
    "<a id='wrangling'></a>\n",
    "## Data Wrangling\n",
    "\n",
    ">At first we are going to analyse the data frame, and see what we can do to make it better to answer our questions\n",
    "\n",
    "### General Properties"
   ]
  },
  {
   "cell_type": "code",
   "execution_count": 3,
   "metadata": {
    "scrolled": true
   },
   "outputs": [
    {
     "data": {
      "text/html": [
       "<div>\n",
       "<style scoped>\n",
       "    .dataframe tbody tr th:only-of-type {\n",
       "        vertical-align: middle;\n",
       "    }\n",
       "\n",
       "    .dataframe tbody tr th {\n",
       "        vertical-align: top;\n",
       "    }\n",
       "\n",
       "    .dataframe thead th {\n",
       "        text-align: right;\n",
       "    }\n",
       "</style>\n",
       "<table border=\"1\" class=\"dataframe\">\n",
       "  <thead>\n",
       "    <tr style=\"text-align: right;\">\n",
       "      <th></th>\n",
       "      <th>PatientId</th>\n",
       "      <th>AppointmentID</th>\n",
       "      <th>Gender</th>\n",
       "      <th>ScheduledDay</th>\n",
       "      <th>AppointmentDay</th>\n",
       "      <th>Age</th>\n",
       "      <th>Neighbourhood</th>\n",
       "      <th>Scholarship</th>\n",
       "      <th>Hipertension</th>\n",
       "      <th>Diabetes</th>\n",
       "      <th>Alcoholism</th>\n",
       "      <th>Handcap</th>\n",
       "      <th>SMS_received</th>\n",
       "      <th>No-show</th>\n",
       "    </tr>\n",
       "  </thead>\n",
       "  <tbody>\n",
       "    <tr>\n",
       "      <th>0</th>\n",
       "      <td>2.987250e+13</td>\n",
       "      <td>5642903</td>\n",
       "      <td>F</td>\n",
       "      <td>2016-04-29T18:38:08Z</td>\n",
       "      <td>2016-04-29T00:00:00Z</td>\n",
       "      <td>62</td>\n",
       "      <td>JARDIM DA PENHA</td>\n",
       "      <td>0</td>\n",
       "      <td>1</td>\n",
       "      <td>0</td>\n",
       "      <td>0</td>\n",
       "      <td>0</td>\n",
       "      <td>0</td>\n",
       "      <td>No</td>\n",
       "    </tr>\n",
       "    <tr>\n",
       "      <th>1</th>\n",
       "      <td>5.589978e+14</td>\n",
       "      <td>5642503</td>\n",
       "      <td>M</td>\n",
       "      <td>2016-04-29T16:08:27Z</td>\n",
       "      <td>2016-04-29T00:00:00Z</td>\n",
       "      <td>56</td>\n",
       "      <td>JARDIM DA PENHA</td>\n",
       "      <td>0</td>\n",
       "      <td>0</td>\n",
       "      <td>0</td>\n",
       "      <td>0</td>\n",
       "      <td>0</td>\n",
       "      <td>0</td>\n",
       "      <td>No</td>\n",
       "    </tr>\n",
       "    <tr>\n",
       "      <th>2</th>\n",
       "      <td>4.262962e+12</td>\n",
       "      <td>5642549</td>\n",
       "      <td>F</td>\n",
       "      <td>2016-04-29T16:19:04Z</td>\n",
       "      <td>2016-04-29T00:00:00Z</td>\n",
       "      <td>62</td>\n",
       "      <td>MATA DA PRAIA</td>\n",
       "      <td>0</td>\n",
       "      <td>0</td>\n",
       "      <td>0</td>\n",
       "      <td>0</td>\n",
       "      <td>0</td>\n",
       "      <td>0</td>\n",
       "      <td>No</td>\n",
       "    </tr>\n",
       "    <tr>\n",
       "      <th>3</th>\n",
       "      <td>8.679512e+11</td>\n",
       "      <td>5642828</td>\n",
       "      <td>F</td>\n",
       "      <td>2016-04-29T17:29:31Z</td>\n",
       "      <td>2016-04-29T00:00:00Z</td>\n",
       "      <td>8</td>\n",
       "      <td>PONTAL DE CAMBURI</td>\n",
       "      <td>0</td>\n",
       "      <td>0</td>\n",
       "      <td>0</td>\n",
       "      <td>0</td>\n",
       "      <td>0</td>\n",
       "      <td>0</td>\n",
       "      <td>No</td>\n",
       "    </tr>\n",
       "    <tr>\n",
       "      <th>4</th>\n",
       "      <td>8.841186e+12</td>\n",
       "      <td>5642494</td>\n",
       "      <td>F</td>\n",
       "      <td>2016-04-29T16:07:23Z</td>\n",
       "      <td>2016-04-29T00:00:00Z</td>\n",
       "      <td>56</td>\n",
       "      <td>JARDIM DA PENHA</td>\n",
       "      <td>0</td>\n",
       "      <td>1</td>\n",
       "      <td>1</td>\n",
       "      <td>0</td>\n",
       "      <td>0</td>\n",
       "      <td>0</td>\n",
       "      <td>No</td>\n",
       "    </tr>\n",
       "  </tbody>\n",
       "</table>\n",
       "</div>"
      ],
      "text/plain": [
       "      PatientId  AppointmentID Gender          ScheduledDay  \\\n",
       "0  2.987250e+13        5642903      F  2016-04-29T18:38:08Z   \n",
       "1  5.589978e+14        5642503      M  2016-04-29T16:08:27Z   \n",
       "2  4.262962e+12        5642549      F  2016-04-29T16:19:04Z   \n",
       "3  8.679512e+11        5642828      F  2016-04-29T17:29:31Z   \n",
       "4  8.841186e+12        5642494      F  2016-04-29T16:07:23Z   \n",
       "\n",
       "         AppointmentDay  Age      Neighbourhood  Scholarship  Hipertension  \\\n",
       "0  2016-04-29T00:00:00Z   62    JARDIM DA PENHA            0             1   \n",
       "1  2016-04-29T00:00:00Z   56    JARDIM DA PENHA            0             0   \n",
       "2  2016-04-29T00:00:00Z   62      MATA DA PRAIA            0             0   \n",
       "3  2016-04-29T00:00:00Z    8  PONTAL DE CAMBURI            0             0   \n",
       "4  2016-04-29T00:00:00Z   56    JARDIM DA PENHA            0             1   \n",
       "\n",
       "   Diabetes  Alcoholism  Handcap  SMS_received No-show  \n",
       "0         0           0        0             0      No  \n",
       "1         0           0        0             0      No  \n",
       "2         0           0        0             0      No  \n",
       "3         0           0        0             0      No  \n",
       "4         1           0        0             0      No  "
      ]
     },
     "execution_count": 3,
     "metadata": {},
     "output_type": "execute_result"
    }
   ],
   "source": [
    "df.head()"
   ]
  },
  {
   "cell_type": "markdown",
   "metadata": {},
   "source": [
    "One of our question is about the influence of waiting time, checking the df.head() we can see that it's going to be necessary to clean the way the columns \"SchedueledDay\" and \"AppointmentDay\" are showing and also create a new column with the waiting days."
   ]
  },
  {
   "cell_type": "code",
   "execution_count": 4,
   "metadata": {},
   "outputs": [
    {
     "name": "stdout",
     "output_type": "stream",
     "text": [
      "<class 'pandas.core.frame.DataFrame'>\n",
      "RangeIndex: 110527 entries, 0 to 110526\n",
      "Data columns (total 14 columns):\n",
      " #   Column          Non-Null Count   Dtype  \n",
      "---  ------          --------------   -----  \n",
      " 0   PatientId       110527 non-null  float64\n",
      " 1   AppointmentID   110527 non-null  int64  \n",
      " 2   Gender          110527 non-null  object \n",
      " 3   ScheduledDay    110527 non-null  object \n",
      " 4   AppointmentDay  110527 non-null  object \n",
      " 5   Age             110527 non-null  int64  \n",
      " 6   Neighbourhood   110527 non-null  object \n",
      " 7   Scholarship     110527 non-null  int64  \n",
      " 8   Hipertension    110527 non-null  int64  \n",
      " 9   Diabetes        110527 non-null  int64  \n",
      " 10  Alcoholism      110527 non-null  int64  \n",
      " 11  Handcap         110527 non-null  int64  \n",
      " 12  SMS_received    110527 non-null  int64  \n",
      " 13  No-show         110527 non-null  object \n",
      "dtypes: float64(1), int64(8), object(5)\n",
      "memory usage: 11.8+ MB\n"
     ]
    }
   ],
   "source": [
    "df.info()"
   ]
  },
  {
   "cell_type": "markdown",
   "metadata": {},
   "source": [
    "The \"ScheduledDay\" and \"AppointmentDay\" are with int type instead of date type. And we can see that there's no missing data."
   ]
  },
  {
   "cell_type": "code",
   "execution_count": 5,
   "metadata": {},
   "outputs": [
    {
     "data": {
      "text/plain": [
       "0"
      ]
     },
     "execution_count": 5,
     "metadata": {},
     "output_type": "execute_result"
    }
   ],
   "source": [
    "df.duplicated().sum()"
   ]
  },
  {
   "cell_type": "markdown",
   "metadata": {},
   "source": [
    "There's no duplicated values as well"
   ]
  },
  {
   "cell_type": "code",
   "execution_count": 6,
   "metadata": {},
   "outputs": [
    {
     "data": {
      "text/html": [
       "<div>\n",
       "<style scoped>\n",
       "    .dataframe tbody tr th:only-of-type {\n",
       "        vertical-align: middle;\n",
       "    }\n",
       "\n",
       "    .dataframe tbody tr th {\n",
       "        vertical-align: top;\n",
       "    }\n",
       "\n",
       "    .dataframe thead th {\n",
       "        text-align: right;\n",
       "    }\n",
       "</style>\n",
       "<table border=\"1\" class=\"dataframe\">\n",
       "  <thead>\n",
       "    <tr style=\"text-align: right;\">\n",
       "      <th></th>\n",
       "      <th>PatientId</th>\n",
       "      <th>AppointmentID</th>\n",
       "      <th>Age</th>\n",
       "      <th>Scholarship</th>\n",
       "      <th>Hipertension</th>\n",
       "      <th>Diabetes</th>\n",
       "      <th>Alcoholism</th>\n",
       "      <th>Handcap</th>\n",
       "      <th>SMS_received</th>\n",
       "    </tr>\n",
       "  </thead>\n",
       "  <tbody>\n",
       "    <tr>\n",
       "      <th>count</th>\n",
       "      <td>1.105270e+05</td>\n",
       "      <td>1.105270e+05</td>\n",
       "      <td>110527.000000</td>\n",
       "      <td>110527.000000</td>\n",
       "      <td>110527.000000</td>\n",
       "      <td>110527.000000</td>\n",
       "      <td>110527.000000</td>\n",
       "      <td>110527.000000</td>\n",
       "      <td>110527.000000</td>\n",
       "    </tr>\n",
       "    <tr>\n",
       "      <th>mean</th>\n",
       "      <td>1.474963e+14</td>\n",
       "      <td>5.675305e+06</td>\n",
       "      <td>37.088874</td>\n",
       "      <td>0.098266</td>\n",
       "      <td>0.197246</td>\n",
       "      <td>0.071865</td>\n",
       "      <td>0.030400</td>\n",
       "      <td>0.022248</td>\n",
       "      <td>0.321026</td>\n",
       "    </tr>\n",
       "    <tr>\n",
       "      <th>std</th>\n",
       "      <td>2.560949e+14</td>\n",
       "      <td>7.129575e+04</td>\n",
       "      <td>23.110205</td>\n",
       "      <td>0.297675</td>\n",
       "      <td>0.397921</td>\n",
       "      <td>0.258265</td>\n",
       "      <td>0.171686</td>\n",
       "      <td>0.161543</td>\n",
       "      <td>0.466873</td>\n",
       "    </tr>\n",
       "    <tr>\n",
       "      <th>min</th>\n",
       "      <td>3.921784e+04</td>\n",
       "      <td>5.030230e+06</td>\n",
       "      <td>-1.000000</td>\n",
       "      <td>0.000000</td>\n",
       "      <td>0.000000</td>\n",
       "      <td>0.000000</td>\n",
       "      <td>0.000000</td>\n",
       "      <td>0.000000</td>\n",
       "      <td>0.000000</td>\n",
       "    </tr>\n",
       "    <tr>\n",
       "      <th>25%</th>\n",
       "      <td>4.172614e+12</td>\n",
       "      <td>5.640286e+06</td>\n",
       "      <td>18.000000</td>\n",
       "      <td>0.000000</td>\n",
       "      <td>0.000000</td>\n",
       "      <td>0.000000</td>\n",
       "      <td>0.000000</td>\n",
       "      <td>0.000000</td>\n",
       "      <td>0.000000</td>\n",
       "    </tr>\n",
       "    <tr>\n",
       "      <th>50%</th>\n",
       "      <td>3.173184e+13</td>\n",
       "      <td>5.680573e+06</td>\n",
       "      <td>37.000000</td>\n",
       "      <td>0.000000</td>\n",
       "      <td>0.000000</td>\n",
       "      <td>0.000000</td>\n",
       "      <td>0.000000</td>\n",
       "      <td>0.000000</td>\n",
       "      <td>0.000000</td>\n",
       "    </tr>\n",
       "    <tr>\n",
       "      <th>75%</th>\n",
       "      <td>9.439172e+13</td>\n",
       "      <td>5.725524e+06</td>\n",
       "      <td>55.000000</td>\n",
       "      <td>0.000000</td>\n",
       "      <td>0.000000</td>\n",
       "      <td>0.000000</td>\n",
       "      <td>0.000000</td>\n",
       "      <td>0.000000</td>\n",
       "      <td>1.000000</td>\n",
       "    </tr>\n",
       "    <tr>\n",
       "      <th>max</th>\n",
       "      <td>9.999816e+14</td>\n",
       "      <td>5.790484e+06</td>\n",
       "      <td>115.000000</td>\n",
       "      <td>1.000000</td>\n",
       "      <td>1.000000</td>\n",
       "      <td>1.000000</td>\n",
       "      <td>1.000000</td>\n",
       "      <td>4.000000</td>\n",
       "      <td>1.000000</td>\n",
       "    </tr>\n",
       "  </tbody>\n",
       "</table>\n",
       "</div>"
      ],
      "text/plain": [
       "          PatientId  AppointmentID            Age    Scholarship  \\\n",
       "count  1.105270e+05   1.105270e+05  110527.000000  110527.000000   \n",
       "mean   1.474963e+14   5.675305e+06      37.088874       0.098266   \n",
       "std    2.560949e+14   7.129575e+04      23.110205       0.297675   \n",
       "min    3.921784e+04   5.030230e+06      -1.000000       0.000000   \n",
       "25%    4.172614e+12   5.640286e+06      18.000000       0.000000   \n",
       "50%    3.173184e+13   5.680573e+06      37.000000       0.000000   \n",
       "75%    9.439172e+13   5.725524e+06      55.000000       0.000000   \n",
       "max    9.999816e+14   5.790484e+06     115.000000       1.000000   \n",
       "\n",
       "        Hipertension       Diabetes     Alcoholism        Handcap  \\\n",
       "count  110527.000000  110527.000000  110527.000000  110527.000000   \n",
       "mean        0.197246       0.071865       0.030400       0.022248   \n",
       "std         0.397921       0.258265       0.171686       0.161543   \n",
       "min         0.000000       0.000000       0.000000       0.000000   \n",
       "25%         0.000000       0.000000       0.000000       0.000000   \n",
       "50%         0.000000       0.000000       0.000000       0.000000   \n",
       "75%         0.000000       0.000000       0.000000       0.000000   \n",
       "max         1.000000       1.000000       1.000000       4.000000   \n",
       "\n",
       "        SMS_received  \n",
       "count  110527.000000  \n",
       "mean        0.321026  \n",
       "std         0.466873  \n",
       "min         0.000000  \n",
       "25%         0.000000  \n",
       "50%         0.000000  \n",
       "75%         1.000000  \n",
       "max         1.000000  "
      ]
     },
     "execution_count": 6,
     "metadata": {},
     "output_type": "execute_result"
    }
   ],
   "source": [
    "df.describe()"
   ]
  },
  {
   "cell_type": "code",
   "execution_count": 7,
   "metadata": {},
   "outputs": [
    {
     "data": {
      "text/html": [
       "<style  type=\"text/css\" >\n",
       "    #T_bf2672de_9bc7_11ea_b52c_60a44cc5a201row0_col0 {\n",
       "            background-color:  #b40426;\n",
       "            color:  #f1f1f1;\n",
       "        }    #T_bf2672de_9bc7_11ea_b52c_60a44cc5a201row0_col1 {\n",
       "            background-color:  #7ea1fa;\n",
       "            color:  #000000;\n",
       "        }    #T_bf2672de_9bc7_11ea_b52c_60a44cc5a201row0_col2 {\n",
       "            background-color:  #536edd;\n",
       "            color:  #000000;\n",
       "        }    #T_bf2672de_9bc7_11ea_b52c_60a44cc5a201row0_col3 {\n",
       "            background-color:  #536edd;\n",
       "            color:  #000000;\n",
       "        }    #T_bf2672de_9bc7_11ea_b52c_60a44cc5a201row0_col4 {\n",
       "            background-color:  #3e51c5;\n",
       "            color:  #f1f1f1;\n",
       "        }    #T_bf2672de_9bc7_11ea_b52c_60a44cc5a201row0_col5 {\n",
       "            background-color:  #4257c9;\n",
       "            color:  #f1f1f1;\n",
       "        }    #T_bf2672de_9bc7_11ea_b52c_60a44cc5a201row0_col6 {\n",
       "            background-color:  #455cce;\n",
       "            color:  #f1f1f1;\n",
       "        }    #T_bf2672de_9bc7_11ea_b52c_60a44cc5a201row0_col7 {\n",
       "            background-color:  #3f53c6;\n",
       "            color:  #f1f1f1;\n",
       "        }    #T_bf2672de_9bc7_11ea_b52c_60a44cc5a201row0_col8 {\n",
       "            background-color:  #7a9df8;\n",
       "            color:  #000000;\n",
       "        }    #T_bf2672de_9bc7_11ea_b52c_60a44cc5a201row1_col0 {\n",
       "            background-color:  #3e51c5;\n",
       "            color:  #f1f1f1;\n",
       "        }    #T_bf2672de_9bc7_11ea_b52c_60a44cc5a201row1_col1 {\n",
       "            background-color:  #b40426;\n",
       "            color:  #f1f1f1;\n",
       "        }    #T_bf2672de_9bc7_11ea_b52c_60a44cc5a201row1_col2 {\n",
       "            background-color:  #4f69d9;\n",
       "            color:  #000000;\n",
       "        }    #T_bf2672de_9bc7_11ea_b52c_60a44cc5a201row1_col3 {\n",
       "            background-color:  #5a78e4;\n",
       "            color:  #000000;\n",
       "        }    #T_bf2672de_9bc7_11ea_b52c_60a44cc5a201row1_col4 {\n",
       "            background-color:  #445acc;\n",
       "            color:  #f1f1f1;\n",
       "        }    #T_bf2672de_9bc7_11ea_b52c_60a44cc5a201row1_col5 {\n",
       "            background-color:  #485fd1;\n",
       "            color:  #f1f1f1;\n",
       "        }    #T_bf2672de_9bc7_11ea_b52c_60a44cc5a201row1_col6 {\n",
       "            background-color:  #4b64d5;\n",
       "            color:  #f1f1f1;\n",
       "        }    #T_bf2672de_9bc7_11ea_b52c_60a44cc5a201row1_col7 {\n",
       "            background-color:  #455cce;\n",
       "            color:  #f1f1f1;\n",
       "        }    #T_bf2672de_9bc7_11ea_b52c_60a44cc5a201row1_col8 {\n",
       "            background-color:  #3b4cc0;\n",
       "            color:  #f1f1f1;\n",
       "        }    #T_bf2672de_9bc7_11ea_b52c_60a44cc5a201row2_col0 {\n",
       "            background-color:  #3c4ec2;\n",
       "            color:  #f1f1f1;\n",
       "        }    #T_bf2672de_9bc7_11ea_b52c_60a44cc5a201row2_col1 {\n",
       "            background-color:  #779af7;\n",
       "            color:  #000000;\n",
       "        }    #T_bf2672de_9bc7_11ea_b52c_60a44cc5a201row2_col2 {\n",
       "            background-color:  #b40426;\n",
       "            color:  #f1f1f1;\n",
       "        }    #T_bf2672de_9bc7_11ea_b52c_60a44cc5a201row2_col3 {\n",
       "            background-color:  #3b4cc0;\n",
       "            color:  #f1f1f1;\n",
       "        }    #T_bf2672de_9bc7_11ea_b52c_60a44cc5a201row2_col4 {\n",
       "            background-color:  #e0dbd8;\n",
       "            color:  #000000;\n",
       "        }    #T_bf2672de_9bc7_11ea_b52c_60a44cc5a201row2_col5 {\n",
       "            background-color:  #a2c1ff;\n",
       "            color:  #000000;\n",
       "        }    #T_bf2672de_9bc7_11ea_b52c_60a44cc5a201row2_col6 {\n",
       "            background-color:  #5f7fe8;\n",
       "            color:  #000000;\n",
       "        }    #T_bf2672de_9bc7_11ea_b52c_60a44cc5a201row2_col7 {\n",
       "            background-color:  #5977e3;\n",
       "            color:  #000000;\n",
       "        }    #T_bf2672de_9bc7_11ea_b52c_60a44cc5a201row2_col8 {\n",
       "            background-color:  #80a3fa;\n",
       "            color:  #000000;\n",
       "        }    #T_bf2672de_9bc7_11ea_b52c_60a44cc5a201row3_col0 {\n",
       "            background-color:  #3c4ec2;\n",
       "            color:  #f1f1f1;\n",
       "        }    #T_bf2672de_9bc7_11ea_b52c_60a44cc5a201row3_col1 {\n",
       "            background-color:  #82a6fb;\n",
       "            color:  #000000;\n",
       "        }    #T_bf2672de_9bc7_11ea_b52c_60a44cc5a201row3_col2 {\n",
       "            background-color:  #3b4cc0;\n",
       "            color:  #f1f1f1;\n",
       "        }    #T_bf2672de_9bc7_11ea_b52c_60a44cc5a201row3_col3 {\n",
       "            background-color:  #b40426;\n",
       "            color:  #f1f1f1;\n",
       "        }    #T_bf2672de_9bc7_11ea_b52c_60a44cc5a201row3_col4 {\n",
       "            background-color:  #3b4cc0;\n",
       "            color:  #f1f1f1;\n",
       "        }    #T_bf2672de_9bc7_11ea_b52c_60a44cc5a201row3_col5 {\n",
       "            background-color:  #3b4cc0;\n",
       "            color:  #f1f1f1;\n",
       "        }    #T_bf2672de_9bc7_11ea_b52c_60a44cc5a201row3_col6 {\n",
       "            background-color:  #4c66d6;\n",
       "            color:  #000000;\n",
       "        }    #T_bf2672de_9bc7_11ea_b52c_60a44cc5a201row3_col7 {\n",
       "            background-color:  #3e51c5;\n",
       "            color:  #f1f1f1;\n",
       "        }    #T_bf2672de_9bc7_11ea_b52c_60a44cc5a201row3_col8 {\n",
       "            background-color:  #7da0f9;\n",
       "            color:  #000000;\n",
       "        }    #T_bf2672de_9bc7_11ea_b52c_60a44cc5a201row4_col0 {\n",
       "            background-color:  #3b4cc0;\n",
       "            color:  #f1f1f1;\n",
       "        }    #T_bf2672de_9bc7_11ea_b52c_60a44cc5a201row4_col1 {\n",
       "            background-color:  #80a3fa;\n",
       "            color:  #000000;\n",
       "        }    #T_bf2672de_9bc7_11ea_b52c_60a44cc5a201row4_col2 {\n",
       "            background-color:  #e8d6cc;\n",
       "            color:  #000000;\n",
       "        }    #T_bf2672de_9bc7_11ea_b52c_60a44cc5a201row4_col3 {\n",
       "            background-color:  #4f69d9;\n",
       "            color:  #000000;\n",
       "        }    #T_bf2672de_9bc7_11ea_b52c_60a44cc5a201row4_col4 {\n",
       "            background-color:  #b40426;\n",
       "            color:  #f1f1f1;\n",
       "        }    #T_bf2672de_9bc7_11ea_b52c_60a44cc5a201row4_col5 {\n",
       "            background-color:  #cedaeb;\n",
       "            color:  #000000;\n",
       "        }    #T_bf2672de_9bc7_11ea_b52c_60a44cc5a201row4_col6 {\n",
       "            background-color:  #5d7ce6;\n",
       "            color:  #000000;\n",
       "        }    #T_bf2672de_9bc7_11ea_b52c_60a44cc5a201row4_col7 {\n",
       "            background-color:  #5a78e4;\n",
       "            color:  #000000;\n",
       "        }    #T_bf2672de_9bc7_11ea_b52c_60a44cc5a201row4_col8 {\n",
       "            background-color:  #7b9ff9;\n",
       "            color:  #000000;\n",
       "        }    #T_bf2672de_9bc7_11ea_b52c_60a44cc5a201row5_col0 {\n",
       "            background-color:  #3d50c3;\n",
       "            color:  #f1f1f1;\n",
       "        }    #T_bf2672de_9bc7_11ea_b52c_60a44cc5a201row5_col1 {\n",
       "            background-color:  #82a6fb;\n",
       "            color:  #000000;\n",
       "        }    #T_bf2672de_9bc7_11ea_b52c_60a44cc5a201row5_col2 {\n",
       "            background-color:  #b1cbfc;\n",
       "            color:  #000000;\n",
       "        }    #T_bf2672de_9bc7_11ea_b52c_60a44cc5a201row5_col3 {\n",
       "            background-color:  #4c66d6;\n",
       "            color:  #000000;\n",
       "        }    #T_bf2672de_9bc7_11ea_b52c_60a44cc5a201row5_col4 {\n",
       "            background-color:  #cdd9ec;\n",
       "            color:  #000000;\n",
       "        }    #T_bf2672de_9bc7_11ea_b52c_60a44cc5a201row5_col5 {\n",
       "            background-color:  #b40426;\n",
       "            color:  #f1f1f1;\n",
       "        }    #T_bf2672de_9bc7_11ea_b52c_60a44cc5a201row5_col6 {\n",
       "            background-color:  #485fd1;\n",
       "            color:  #f1f1f1;\n",
       "        }    #T_bf2672de_9bc7_11ea_b52c_60a44cc5a201row5_col7 {\n",
       "            background-color:  #536edd;\n",
       "            color:  #000000;\n",
       "        }    #T_bf2672de_9bc7_11ea_b52c_60a44cc5a201row5_col8 {\n",
       "            background-color:  #799cf8;\n",
       "            color:  #000000;\n",
       "        }    #T_bf2672de_9bc7_11ea_b52c_60a44cc5a201row6_col0 {\n",
       "            background-color:  #4055c8;\n",
       "            color:  #f1f1f1;\n",
       "        }    #T_bf2672de_9bc7_11ea_b52c_60a44cc5a201row6_col1 {\n",
       "            background-color:  #85a8fc;\n",
       "            color:  #000000;\n",
       "        }    #T_bf2672de_9bc7_11ea_b52c_60a44cc5a201row6_col2 {\n",
       "            background-color:  #7295f4;\n",
       "            color:  #000000;\n",
       "        }    #T_bf2672de_9bc7_11ea_b52c_60a44cc5a201row6_col3 {\n",
       "            background-color:  #5e7de7;\n",
       "            color:  #000000;\n",
       "        }    #T_bf2672de_9bc7_11ea_b52c_60a44cc5a201row6_col4 {\n",
       "            background-color:  #5b7ae5;\n",
       "            color:  #000000;\n",
       "        }    #T_bf2672de_9bc7_11ea_b52c_60a44cc5a201row6_col5 {\n",
       "            background-color:  #465ecf;\n",
       "            color:  #f1f1f1;\n",
       "        }    #T_bf2672de_9bc7_11ea_b52c_60a44cc5a201row6_col6 {\n",
       "            background-color:  #b40426;\n",
       "            color:  #f1f1f1;\n",
       "        }    #T_bf2672de_9bc7_11ea_b52c_60a44cc5a201row6_col7 {\n",
       "            background-color:  #4358cb;\n",
       "            color:  #f1f1f1;\n",
       "        }    #T_bf2672de_9bc7_11ea_b52c_60a44cc5a201row6_col8 {\n",
       "            background-color:  #7597f6;\n",
       "            color:  #000000;\n",
       "        }    #T_bf2672de_9bc7_11ea_b52c_60a44cc5a201row7_col0 {\n",
       "            background-color:  #3b4cc0;\n",
       "            color:  #f1f1f1;\n",
       "        }    #T_bf2672de_9bc7_11ea_b52c_60a44cc5a201row7_col1 {\n",
       "            background-color:  #81a4fb;\n",
       "            color:  #000000;\n",
       "        }    #T_bf2672de_9bc7_11ea_b52c_60a44cc5a201row7_col2 {\n",
       "            background-color:  #6b8df0;\n",
       "            color:  #000000;\n",
       "        }    #T_bf2672de_9bc7_11ea_b52c_60a44cc5a201row7_col3 {\n",
       "            background-color:  #516ddb;\n",
       "            color:  #000000;\n",
       "        }    #T_bf2672de_9bc7_11ea_b52c_60a44cc5a201row7_col4 {\n",
       "            background-color:  #5977e3;\n",
       "            color:  #000000;\n",
       "        }    #T_bf2672de_9bc7_11ea_b52c_60a44cc5a201row7_col5 {\n",
       "            background-color:  #536edd;\n",
       "            color:  #000000;\n",
       "        }    #T_bf2672de_9bc7_11ea_b52c_60a44cc5a201row7_col6 {\n",
       "            background-color:  #4358cb;\n",
       "            color:  #f1f1f1;\n",
       "        }    #T_bf2672de_9bc7_11ea_b52c_60a44cc5a201row7_col7 {\n",
       "            background-color:  #b40426;\n",
       "            color:  #f1f1f1;\n",
       "        }    #T_bf2672de_9bc7_11ea_b52c_60a44cc5a201row7_col8 {\n",
       "            background-color:  #7699f6;\n",
       "            color:  #000000;\n",
       "        }    #T_bf2672de_9bc7_11ea_b52c_60a44cc5a201row8_col0 {\n",
       "            background-color:  #3b4cc0;\n",
       "            color:  #f1f1f1;\n",
       "        }    #T_bf2672de_9bc7_11ea_b52c_60a44cc5a201row8_col1 {\n",
       "            background-color:  #3b4cc0;\n",
       "            color:  #f1f1f1;\n",
       "        }    #T_bf2672de_9bc7_11ea_b52c_60a44cc5a201row8_col2 {\n",
       "            background-color:  #5875e1;\n",
       "            color:  #000000;\n",
       "        }    #T_bf2672de_9bc7_11ea_b52c_60a44cc5a201row8_col3 {\n",
       "            background-color:  #5470de;\n",
       "            color:  #000000;\n",
       "        }    #T_bf2672de_9bc7_11ea_b52c_60a44cc5a201row8_col4 {\n",
       "            background-color:  #3e51c5;\n",
       "            color:  #f1f1f1;\n",
       "        }    #T_bf2672de_9bc7_11ea_b52c_60a44cc5a201row8_col5 {\n",
       "            background-color:  #3d50c3;\n",
       "            color:  #f1f1f1;\n",
       "        }    #T_bf2672de_9bc7_11ea_b52c_60a44cc5a201row8_col6 {\n",
       "            background-color:  #3b4cc0;\n",
       "            color:  #f1f1f1;\n",
       "        }    #T_bf2672de_9bc7_11ea_b52c_60a44cc5a201row8_col7 {\n",
       "            background-color:  #3b4cc0;\n",
       "            color:  #f1f1f1;\n",
       "        }    #T_bf2672de_9bc7_11ea_b52c_60a44cc5a201row8_col8 {\n",
       "            background-color:  #b40426;\n",
       "            color:  #f1f1f1;\n",
       "        }</style><table id=\"T_bf2672de_9bc7_11ea_b52c_60a44cc5a201\" ><thead>    <tr>        <th class=\"blank level0\" ></th>        <th class=\"col_heading level0 col0\" >PatientId</th>        <th class=\"col_heading level0 col1\" >AppointmentID</th>        <th class=\"col_heading level0 col2\" >Age</th>        <th class=\"col_heading level0 col3\" >Scholarship</th>        <th class=\"col_heading level0 col4\" >Hipertension</th>        <th class=\"col_heading level0 col5\" >Diabetes</th>        <th class=\"col_heading level0 col6\" >Alcoholism</th>        <th class=\"col_heading level0 col7\" >Handcap</th>        <th class=\"col_heading level0 col8\" >SMS_received</th>    </tr></thead><tbody>\n",
       "                <tr>\n",
       "                        <th id=\"T_bf2672de_9bc7_11ea_b52c_60a44cc5a201level0_row0\" class=\"row_heading level0 row0\" >PatientId</th>\n",
       "                        <td id=\"T_bf2672de_9bc7_11ea_b52c_60a44cc5a201row0_col0\" class=\"data row0 col0\" >1.000000</td>\n",
       "                        <td id=\"T_bf2672de_9bc7_11ea_b52c_60a44cc5a201row0_col1\" class=\"data row0 col1\" >0.004039</td>\n",
       "                        <td id=\"T_bf2672de_9bc7_11ea_b52c_60a44cc5a201row0_col2\" class=\"data row0 col2\" >-0.004139</td>\n",
       "                        <td id=\"T_bf2672de_9bc7_11ea_b52c_60a44cc5a201row0_col3\" class=\"data row0 col3\" >-0.002880</td>\n",
       "                        <td id=\"T_bf2672de_9bc7_11ea_b52c_60a44cc5a201row0_col4\" class=\"data row0 col4\" >-0.006441</td>\n",
       "                        <td id=\"T_bf2672de_9bc7_11ea_b52c_60a44cc5a201row0_col5\" class=\"data row0 col5\" >0.001605</td>\n",
       "                        <td id=\"T_bf2672de_9bc7_11ea_b52c_60a44cc5a201row0_col6\" class=\"data row0 col6\" >0.011011</td>\n",
       "                        <td id=\"T_bf2672de_9bc7_11ea_b52c_60a44cc5a201row0_col7\" class=\"data row0 col7\" >-0.007916</td>\n",
       "                        <td id=\"T_bf2672de_9bc7_11ea_b52c_60a44cc5a201row0_col8\" class=\"data row0 col8\" >-0.009749</td>\n",
       "            </tr>\n",
       "            <tr>\n",
       "                        <th id=\"T_bf2672de_9bc7_11ea_b52c_60a44cc5a201level0_row1\" class=\"row_heading level0 row1\" >AppointmentID</th>\n",
       "                        <td id=\"T_bf2672de_9bc7_11ea_b52c_60a44cc5a201row1_col0\" class=\"data row1 col0\" >0.004039</td>\n",
       "                        <td id=\"T_bf2672de_9bc7_11ea_b52c_60a44cc5a201row1_col1\" class=\"data row1 col1\" >1.000000</td>\n",
       "                        <td id=\"T_bf2672de_9bc7_11ea_b52c_60a44cc5a201row1_col2\" class=\"data row1 col2\" >-0.019126</td>\n",
       "                        <td id=\"T_bf2672de_9bc7_11ea_b52c_60a44cc5a201row1_col3\" class=\"data row1 col3\" >0.022615</td>\n",
       "                        <td id=\"T_bf2672de_9bc7_11ea_b52c_60a44cc5a201row1_col4\" class=\"data row1 col4\" >0.012752</td>\n",
       "                        <td id=\"T_bf2672de_9bc7_11ea_b52c_60a44cc5a201row1_col5\" class=\"data row1 col5\" >0.022628</td>\n",
       "                        <td id=\"T_bf2672de_9bc7_11ea_b52c_60a44cc5a201row1_col6\" class=\"data row1 col6\" >0.032944</td>\n",
       "                        <td id=\"T_bf2672de_9bc7_11ea_b52c_60a44cc5a201row1_col7\" class=\"data row1 col7\" >0.014106</td>\n",
       "                        <td id=\"T_bf2672de_9bc7_11ea_b52c_60a44cc5a201row1_col8\" class=\"data row1 col8\" >-0.256618</td>\n",
       "            </tr>\n",
       "            <tr>\n",
       "                        <th id=\"T_bf2672de_9bc7_11ea_b52c_60a44cc5a201level0_row2\" class=\"row_heading level0 row2\" >Age</th>\n",
       "                        <td id=\"T_bf2672de_9bc7_11ea_b52c_60a44cc5a201row2_col0\" class=\"data row2 col0\" >-0.004139</td>\n",
       "                        <td id=\"T_bf2672de_9bc7_11ea_b52c_60a44cc5a201row2_col1\" class=\"data row2 col1\" >-0.019126</td>\n",
       "                        <td id=\"T_bf2672de_9bc7_11ea_b52c_60a44cc5a201row2_col2\" class=\"data row2 col2\" >1.000000</td>\n",
       "                        <td id=\"T_bf2672de_9bc7_11ea_b52c_60a44cc5a201row2_col3\" class=\"data row2 col3\" >-0.092457</td>\n",
       "                        <td id=\"T_bf2672de_9bc7_11ea_b52c_60a44cc5a201row2_col4\" class=\"data row2 col4\" >0.504586</td>\n",
       "                        <td id=\"T_bf2672de_9bc7_11ea_b52c_60a44cc5a201row2_col5\" class=\"data row2 col5\" >0.292391</td>\n",
       "                        <td id=\"T_bf2672de_9bc7_11ea_b52c_60a44cc5a201row2_col6\" class=\"data row2 col6\" >0.095811</td>\n",
       "                        <td id=\"T_bf2672de_9bc7_11ea_b52c_60a44cc5a201row2_col7\" class=\"data row2 col7\" >0.078033</td>\n",
       "                        <td id=\"T_bf2672de_9bc7_11ea_b52c_60a44cc5a201row2_col8\" class=\"data row2 col8\" >0.012643</td>\n",
       "            </tr>\n",
       "            <tr>\n",
       "                        <th id=\"T_bf2672de_9bc7_11ea_b52c_60a44cc5a201level0_row3\" class=\"row_heading level0 row3\" >Scholarship</th>\n",
       "                        <td id=\"T_bf2672de_9bc7_11ea_b52c_60a44cc5a201row3_col0\" class=\"data row3 col0\" >-0.002880</td>\n",
       "                        <td id=\"T_bf2672de_9bc7_11ea_b52c_60a44cc5a201row3_col1\" class=\"data row3 col1\" >0.022615</td>\n",
       "                        <td id=\"T_bf2672de_9bc7_11ea_b52c_60a44cc5a201row3_col2\" class=\"data row3 col2\" >-0.092457</td>\n",
       "                        <td id=\"T_bf2672de_9bc7_11ea_b52c_60a44cc5a201row3_col3\" class=\"data row3 col3\" >1.000000</td>\n",
       "                        <td id=\"T_bf2672de_9bc7_11ea_b52c_60a44cc5a201row3_col4\" class=\"data row3 col4\" >-0.019729</td>\n",
       "                        <td id=\"T_bf2672de_9bc7_11ea_b52c_60a44cc5a201row3_col5\" class=\"data row3 col5\" >-0.024894</td>\n",
       "                        <td id=\"T_bf2672de_9bc7_11ea_b52c_60a44cc5a201row3_col6\" class=\"data row3 col6\" >0.035022</td>\n",
       "                        <td id=\"T_bf2672de_9bc7_11ea_b52c_60a44cc5a201row3_col7\" class=\"data row3 col7\" >-0.008586</td>\n",
       "                        <td id=\"T_bf2672de_9bc7_11ea_b52c_60a44cc5a201row3_col8\" class=\"data row3 col8\" >0.001194</td>\n",
       "            </tr>\n",
       "            <tr>\n",
       "                        <th id=\"T_bf2672de_9bc7_11ea_b52c_60a44cc5a201level0_row4\" class=\"row_heading level0 row4\" >Hipertension</th>\n",
       "                        <td id=\"T_bf2672de_9bc7_11ea_b52c_60a44cc5a201row4_col0\" class=\"data row4 col0\" >-0.006441</td>\n",
       "                        <td id=\"T_bf2672de_9bc7_11ea_b52c_60a44cc5a201row4_col1\" class=\"data row4 col1\" >0.012752</td>\n",
       "                        <td id=\"T_bf2672de_9bc7_11ea_b52c_60a44cc5a201row4_col2\" class=\"data row4 col2\" >0.504586</td>\n",
       "                        <td id=\"T_bf2672de_9bc7_11ea_b52c_60a44cc5a201row4_col3\" class=\"data row4 col3\" >-0.019729</td>\n",
       "                        <td id=\"T_bf2672de_9bc7_11ea_b52c_60a44cc5a201row4_col4\" class=\"data row4 col4\" >1.000000</td>\n",
       "                        <td id=\"T_bf2672de_9bc7_11ea_b52c_60a44cc5a201row4_col5\" class=\"data row4 col5\" >0.433086</td>\n",
       "                        <td id=\"T_bf2672de_9bc7_11ea_b52c_60a44cc5a201row4_col6\" class=\"data row4 col6\" >0.087971</td>\n",
       "                        <td id=\"T_bf2672de_9bc7_11ea_b52c_60a44cc5a201row4_col7\" class=\"data row4 col7\" >0.080083</td>\n",
       "                        <td id=\"T_bf2672de_9bc7_11ea_b52c_60a44cc5a201row4_col8\" class=\"data row4 col8\" >-0.006267</td>\n",
       "            </tr>\n",
       "            <tr>\n",
       "                        <th id=\"T_bf2672de_9bc7_11ea_b52c_60a44cc5a201level0_row5\" class=\"row_heading level0 row5\" >Diabetes</th>\n",
       "                        <td id=\"T_bf2672de_9bc7_11ea_b52c_60a44cc5a201row5_col0\" class=\"data row5 col0\" >0.001605</td>\n",
       "                        <td id=\"T_bf2672de_9bc7_11ea_b52c_60a44cc5a201row5_col1\" class=\"data row5 col1\" >0.022628</td>\n",
       "                        <td id=\"T_bf2672de_9bc7_11ea_b52c_60a44cc5a201row5_col2\" class=\"data row5 col2\" >0.292391</td>\n",
       "                        <td id=\"T_bf2672de_9bc7_11ea_b52c_60a44cc5a201row5_col3\" class=\"data row5 col3\" >-0.024894</td>\n",
       "                        <td id=\"T_bf2672de_9bc7_11ea_b52c_60a44cc5a201row5_col4\" class=\"data row5 col4\" >0.433086</td>\n",
       "                        <td id=\"T_bf2672de_9bc7_11ea_b52c_60a44cc5a201row5_col5\" class=\"data row5 col5\" >1.000000</td>\n",
       "                        <td id=\"T_bf2672de_9bc7_11ea_b52c_60a44cc5a201row5_col6\" class=\"data row5 col6\" >0.018474</td>\n",
       "                        <td id=\"T_bf2672de_9bc7_11ea_b52c_60a44cc5a201row5_col7\" class=\"data row5 col7\" >0.057530</td>\n",
       "                        <td id=\"T_bf2672de_9bc7_11ea_b52c_60a44cc5a201row5_col8\" class=\"data row5 col8\" >-0.014550</td>\n",
       "            </tr>\n",
       "            <tr>\n",
       "                        <th id=\"T_bf2672de_9bc7_11ea_b52c_60a44cc5a201level0_row6\" class=\"row_heading level0 row6\" >Alcoholism</th>\n",
       "                        <td id=\"T_bf2672de_9bc7_11ea_b52c_60a44cc5a201row6_col0\" class=\"data row6 col0\" >0.011011</td>\n",
       "                        <td id=\"T_bf2672de_9bc7_11ea_b52c_60a44cc5a201row6_col1\" class=\"data row6 col1\" >0.032944</td>\n",
       "                        <td id=\"T_bf2672de_9bc7_11ea_b52c_60a44cc5a201row6_col2\" class=\"data row6 col2\" >0.095811</td>\n",
       "                        <td id=\"T_bf2672de_9bc7_11ea_b52c_60a44cc5a201row6_col3\" class=\"data row6 col3\" >0.035022</td>\n",
       "                        <td id=\"T_bf2672de_9bc7_11ea_b52c_60a44cc5a201row6_col4\" class=\"data row6 col4\" >0.087971</td>\n",
       "                        <td id=\"T_bf2672de_9bc7_11ea_b52c_60a44cc5a201row6_col5\" class=\"data row6 col5\" >0.018474</td>\n",
       "                        <td id=\"T_bf2672de_9bc7_11ea_b52c_60a44cc5a201row6_col6\" class=\"data row6 col6\" >1.000000</td>\n",
       "                        <td id=\"T_bf2672de_9bc7_11ea_b52c_60a44cc5a201row6_col7\" class=\"data row6 col7\" >0.004648</td>\n",
       "                        <td id=\"T_bf2672de_9bc7_11ea_b52c_60a44cc5a201row6_col8\" class=\"data row6 col8\" >-0.026147</td>\n",
       "            </tr>\n",
       "            <tr>\n",
       "                        <th id=\"T_bf2672de_9bc7_11ea_b52c_60a44cc5a201level0_row7\" class=\"row_heading level0 row7\" >Handcap</th>\n",
       "                        <td id=\"T_bf2672de_9bc7_11ea_b52c_60a44cc5a201row7_col0\" class=\"data row7 col0\" >-0.007916</td>\n",
       "                        <td id=\"T_bf2672de_9bc7_11ea_b52c_60a44cc5a201row7_col1\" class=\"data row7 col1\" >0.014106</td>\n",
       "                        <td id=\"T_bf2672de_9bc7_11ea_b52c_60a44cc5a201row7_col2\" class=\"data row7 col2\" >0.078033</td>\n",
       "                        <td id=\"T_bf2672de_9bc7_11ea_b52c_60a44cc5a201row7_col3\" class=\"data row7 col3\" >-0.008586</td>\n",
       "                        <td id=\"T_bf2672de_9bc7_11ea_b52c_60a44cc5a201row7_col4\" class=\"data row7 col4\" >0.080083</td>\n",
       "                        <td id=\"T_bf2672de_9bc7_11ea_b52c_60a44cc5a201row7_col5\" class=\"data row7 col5\" >0.057530</td>\n",
       "                        <td id=\"T_bf2672de_9bc7_11ea_b52c_60a44cc5a201row7_col6\" class=\"data row7 col6\" >0.004648</td>\n",
       "                        <td id=\"T_bf2672de_9bc7_11ea_b52c_60a44cc5a201row7_col7\" class=\"data row7 col7\" >1.000000</td>\n",
       "                        <td id=\"T_bf2672de_9bc7_11ea_b52c_60a44cc5a201row7_col8\" class=\"data row7 col8\" >-0.024161</td>\n",
       "            </tr>\n",
       "            <tr>\n",
       "                        <th id=\"T_bf2672de_9bc7_11ea_b52c_60a44cc5a201level0_row8\" class=\"row_heading level0 row8\" >SMS_received</th>\n",
       "                        <td id=\"T_bf2672de_9bc7_11ea_b52c_60a44cc5a201row8_col0\" class=\"data row8 col0\" >-0.009749</td>\n",
       "                        <td id=\"T_bf2672de_9bc7_11ea_b52c_60a44cc5a201row8_col1\" class=\"data row8 col1\" >-0.256618</td>\n",
       "                        <td id=\"T_bf2672de_9bc7_11ea_b52c_60a44cc5a201row8_col2\" class=\"data row8 col2\" >0.012643</td>\n",
       "                        <td id=\"T_bf2672de_9bc7_11ea_b52c_60a44cc5a201row8_col3\" class=\"data row8 col3\" >0.001194</td>\n",
       "                        <td id=\"T_bf2672de_9bc7_11ea_b52c_60a44cc5a201row8_col4\" class=\"data row8 col4\" >-0.006267</td>\n",
       "                        <td id=\"T_bf2672de_9bc7_11ea_b52c_60a44cc5a201row8_col5\" class=\"data row8 col5\" >-0.014550</td>\n",
       "                        <td id=\"T_bf2672de_9bc7_11ea_b52c_60a44cc5a201row8_col6\" class=\"data row8 col6\" >-0.026147</td>\n",
       "                        <td id=\"T_bf2672de_9bc7_11ea_b52c_60a44cc5a201row8_col7\" class=\"data row8 col7\" >-0.024161</td>\n",
       "                        <td id=\"T_bf2672de_9bc7_11ea_b52c_60a44cc5a201row8_col8\" class=\"data row8 col8\" >1.000000</td>\n",
       "            </tr>\n",
       "    </tbody></table>"
      ],
      "text/plain": [
       "<pandas.io.formats.style.Styler at 0x1c02a509588>"
      ]
     },
     "execution_count": 7,
     "metadata": {},
     "output_type": "execute_result"
    }
   ],
   "source": [
    "corr = df.corr()\n",
    "corr.style.background_gradient(cmap='coolwarm')"
   ]
  },
  {
   "cell_type": "markdown",
   "metadata": {},
   "source": [
    "### Converting the datatype and creating the Waiting days column"
   ]
  },
  {
   "cell_type": "markdown",
   "metadata": {},
   "source": [
    "To converd the columns that contain dates, I'm going to define a function for it."
   ]
  },
  {
   "cell_type": "markdown",
   "metadata": {},
   "source": [
    "The appointment day don't have a time scheduled, so i'm going at first i'm going to make both columns with only the year-month-day"
   ]
  },
  {
   "cell_type": "code",
   "execution_count": 8,
   "metadata": {},
   "outputs": [],
   "source": [
    "df['ScheduledDay'] = df['ScheduledDay'].str[:10] ##The dates are as srting format\n",
    "df['AppointmentDay'] = df['AppointmentDay'].str[:10]"
   ]
  },
  {
   "cell_type": "code",
   "execution_count": 9,
   "metadata": {},
   "outputs": [],
   "source": [
    "def convert_date(date): ##this function will convert strings to dates\n",
    "    if date == '':\n",
    "        return None\n",
    "    else:\n",
    "        return dt.strptime(date, '%Y-%m-%d')"
   ]
  },
  {
   "cell_type": "code",
   "execution_count": 10,
   "metadata": {},
   "outputs": [],
   "source": [
    "date_columns = ['ScheduledDay', 'AppointmentDay']\n",
    "\n",
    "for d in date_columns:\n",
    "    df[d] = df[d].apply(convert_date)"
   ]
  },
  {
   "cell_type": "code",
   "execution_count": 11,
   "metadata": {},
   "outputs": [],
   "source": [
    "df['Waiting_days'] = (df['AppointmentDay'] - df['ScheduledDay']).dt.days"
   ]
  },
  {
   "cell_type": "code",
   "execution_count": 12,
   "metadata": {},
   "outputs": [
    {
     "data": {
      "text/plain": [
       "count    110527.000000\n",
       "mean         10.183702\n",
       "std          15.254996\n",
       "min          -6.000000\n",
       "25%           0.000000\n",
       "50%           4.000000\n",
       "75%          15.000000\n",
       "max         179.000000\n",
       "Name: Waiting_days, dtype: float64"
      ]
     },
     "execution_count": 12,
     "metadata": {},
     "output_type": "execute_result"
    }
   ],
   "source": [
    "df['Waiting_days'].describe()"
   ]
  },
  {
   "cell_type": "markdown",
   "metadata": {},
   "source": [
    "After applying the describe function for the new column, I found out that some lines were probably with the scheduled day after the appointment day, and this don't make much sense.\n",
    "So I'm going to apply a query and check on that."
   ]
  },
  {
   "cell_type": "code",
   "execution_count": 13,
   "metadata": {},
   "outputs": [
    {
     "data": {
      "text/html": [
       "<div>\n",
       "<style scoped>\n",
       "    .dataframe tbody tr th:only-of-type {\n",
       "        vertical-align: middle;\n",
       "    }\n",
       "\n",
       "    .dataframe tbody tr th {\n",
       "        vertical-align: top;\n",
       "    }\n",
       "\n",
       "    .dataframe thead th {\n",
       "        text-align: right;\n",
       "    }\n",
       "</style>\n",
       "<table border=\"1\" class=\"dataframe\">\n",
       "  <thead>\n",
       "    <tr style=\"text-align: right;\">\n",
       "      <th></th>\n",
       "      <th>PatientId</th>\n",
       "      <th>AppointmentID</th>\n",
       "      <th>Gender</th>\n",
       "      <th>ScheduledDay</th>\n",
       "      <th>AppointmentDay</th>\n",
       "      <th>Age</th>\n",
       "      <th>Neighbourhood</th>\n",
       "      <th>Scholarship</th>\n",
       "      <th>Hipertension</th>\n",
       "      <th>Diabetes</th>\n",
       "      <th>Alcoholism</th>\n",
       "      <th>Handcap</th>\n",
       "      <th>SMS_received</th>\n",
       "      <th>No-show</th>\n",
       "      <th>Waiting_days</th>\n",
       "    </tr>\n",
       "  </thead>\n",
       "  <tbody>\n",
       "    <tr>\n",
       "      <th>27033</th>\n",
       "      <td>7.839273e+12</td>\n",
       "      <td>5679978</td>\n",
       "      <td>M</td>\n",
       "      <td>2016-05-10</td>\n",
       "      <td>2016-05-09</td>\n",
       "      <td>38</td>\n",
       "      <td>RESISTÊNCIA</td>\n",
       "      <td>0</td>\n",
       "      <td>0</td>\n",
       "      <td>0</td>\n",
       "      <td>0</td>\n",
       "      <td>1</td>\n",
       "      <td>0</td>\n",
       "      <td>Yes</td>\n",
       "      <td>-1</td>\n",
       "    </tr>\n",
       "    <tr>\n",
       "      <th>55226</th>\n",
       "      <td>7.896294e+12</td>\n",
       "      <td>5715660</td>\n",
       "      <td>F</td>\n",
       "      <td>2016-05-18</td>\n",
       "      <td>2016-05-17</td>\n",
       "      <td>19</td>\n",
       "      <td>SANTO ANTÔNIO</td>\n",
       "      <td>0</td>\n",
       "      <td>0</td>\n",
       "      <td>0</td>\n",
       "      <td>0</td>\n",
       "      <td>1</td>\n",
       "      <td>0</td>\n",
       "      <td>Yes</td>\n",
       "      <td>-1</td>\n",
       "    </tr>\n",
       "    <tr>\n",
       "      <th>64175</th>\n",
       "      <td>2.425226e+13</td>\n",
       "      <td>5664962</td>\n",
       "      <td>F</td>\n",
       "      <td>2016-05-05</td>\n",
       "      <td>2016-05-04</td>\n",
       "      <td>22</td>\n",
       "      <td>CONSOLAÇÃO</td>\n",
       "      <td>0</td>\n",
       "      <td>0</td>\n",
       "      <td>0</td>\n",
       "      <td>0</td>\n",
       "      <td>0</td>\n",
       "      <td>0</td>\n",
       "      <td>Yes</td>\n",
       "      <td>-1</td>\n",
       "    </tr>\n",
       "    <tr>\n",
       "      <th>71533</th>\n",
       "      <td>9.982316e+14</td>\n",
       "      <td>5686628</td>\n",
       "      <td>F</td>\n",
       "      <td>2016-05-11</td>\n",
       "      <td>2016-05-05</td>\n",
       "      <td>81</td>\n",
       "      <td>SANTO ANTÔNIO</td>\n",
       "      <td>0</td>\n",
       "      <td>0</td>\n",
       "      <td>0</td>\n",
       "      <td>0</td>\n",
       "      <td>0</td>\n",
       "      <td>0</td>\n",
       "      <td>Yes</td>\n",
       "      <td>-6</td>\n",
       "    </tr>\n",
       "    <tr>\n",
       "      <th>72362</th>\n",
       "      <td>3.787482e+12</td>\n",
       "      <td>5655637</td>\n",
       "      <td>M</td>\n",
       "      <td>2016-05-04</td>\n",
       "      <td>2016-05-03</td>\n",
       "      <td>7</td>\n",
       "      <td>TABUAZEIRO</td>\n",
       "      <td>0</td>\n",
       "      <td>0</td>\n",
       "      <td>0</td>\n",
       "      <td>0</td>\n",
       "      <td>0</td>\n",
       "      <td>0</td>\n",
       "      <td>Yes</td>\n",
       "      <td>-1</td>\n",
       "    </tr>\n",
       "  </tbody>\n",
       "</table>\n",
       "</div>"
      ],
      "text/plain": [
       "          PatientId  AppointmentID Gender ScheduledDay AppointmentDay  Age  \\\n",
       "27033  7.839273e+12        5679978      M   2016-05-10     2016-05-09   38   \n",
       "55226  7.896294e+12        5715660      F   2016-05-18     2016-05-17   19   \n",
       "64175  2.425226e+13        5664962      F   2016-05-05     2016-05-04   22   \n",
       "71533  9.982316e+14        5686628      F   2016-05-11     2016-05-05   81   \n",
       "72362  3.787482e+12        5655637      M   2016-05-04     2016-05-03    7   \n",
       "\n",
       "       Neighbourhood  Scholarship  Hipertension  Diabetes  Alcoholism  \\\n",
       "27033    RESISTÊNCIA            0             0         0           0   \n",
       "55226  SANTO ANTÔNIO            0             0         0           0   \n",
       "64175     CONSOLAÇÃO            0             0         0           0   \n",
       "71533  SANTO ANTÔNIO            0             0         0           0   \n",
       "72362     TABUAZEIRO            0             0         0           0   \n",
       "\n",
       "       Handcap  SMS_received No-show  Waiting_days  \n",
       "27033        1             0     Yes            -1  \n",
       "55226        1             0     Yes            -1  \n",
       "64175        0             0     Yes            -1  \n",
       "71533        0             0     Yes            -6  \n",
       "72362        0             0     Yes            -1  "
      ]
     },
     "execution_count": 13,
     "metadata": {},
     "output_type": "execute_result"
    }
   ],
   "source": [
    "df.query('ScheduledDay > AppointmentDay')"
   ]
  },
  {
   "cell_type": "markdown",
   "metadata": {},
   "source": [
    "Let's drop this lines"
   ]
  },
  {
   "cell_type": "code",
   "execution_count": 14,
   "metadata": {},
   "outputs": [],
   "source": [
    "df.drop(df.loc[df['ScheduledDay']>df['AppointmentDay']].index, inplace=True)"
   ]
  },
  {
   "cell_type": "code",
   "execution_count": 15,
   "metadata": {},
   "outputs": [
    {
     "data": {
      "text/html": [
       "<div>\n",
       "<style scoped>\n",
       "    .dataframe tbody tr th:only-of-type {\n",
       "        vertical-align: middle;\n",
       "    }\n",
       "\n",
       "    .dataframe tbody tr th {\n",
       "        vertical-align: top;\n",
       "    }\n",
       "\n",
       "    .dataframe thead th {\n",
       "        text-align: right;\n",
       "    }\n",
       "</style>\n",
       "<table border=\"1\" class=\"dataframe\">\n",
       "  <thead>\n",
       "    <tr style=\"text-align: right;\">\n",
       "      <th></th>\n",
       "      <th>PatientId</th>\n",
       "      <th>AppointmentID</th>\n",
       "      <th>Gender</th>\n",
       "      <th>ScheduledDay</th>\n",
       "      <th>AppointmentDay</th>\n",
       "      <th>Age</th>\n",
       "      <th>Neighbourhood</th>\n",
       "      <th>Scholarship</th>\n",
       "      <th>Hipertension</th>\n",
       "      <th>Diabetes</th>\n",
       "      <th>Alcoholism</th>\n",
       "      <th>Handcap</th>\n",
       "      <th>SMS_received</th>\n",
       "      <th>No-show</th>\n",
       "      <th>Waiting_days</th>\n",
       "    </tr>\n",
       "  </thead>\n",
       "  <tbody>\n",
       "  </tbody>\n",
       "</table>\n",
       "</div>"
      ],
      "text/plain": [
       "Empty DataFrame\n",
       "Columns: [PatientId, AppointmentID, Gender, ScheduledDay, AppointmentDay, Age, Neighbourhood, Scholarship, Hipertension, Diabetes, Alcoholism, Handcap, SMS_received, No-show, Waiting_days]\n",
       "Index: []"
      ]
     },
     "execution_count": 15,
     "metadata": {},
     "output_type": "execute_result"
    }
   ],
   "source": [
    "df.query('ScheduledDay > AppointmentDay')"
   ]
  },
  {
   "cell_type": "code",
   "execution_count": 16,
   "metadata": {},
   "outputs": [
    {
     "data": {
      "text/plain": [
       "count    110522.000000\n",
       "mean         10.184253\n",
       "std          15.255115\n",
       "min           0.000000\n",
       "25%           0.000000\n",
       "50%           4.000000\n",
       "75%          15.000000\n",
       "max         179.000000\n",
       "Name: Waiting_days, dtype: float64"
      ]
     },
     "execution_count": 16,
     "metadata": {},
     "output_type": "execute_result"
    }
   ],
   "source": [
    "df['Waiting_days'].describe()"
   ]
  },
  {
   "cell_type": "markdown",
   "metadata": {},
   "source": [
    "The columns Scholarship, Hipertension, Diabetes, Alcoholism and SMS_received are using 1 and 0 as yes or no. To make it easy work with it I decided to convert into True and False."
   ]
  },
  {
   "cell_type": "code",
   "execution_count": 17,
   "metadata": {},
   "outputs": [],
   "source": [
    "columns_tf = ['Scholarship', 'Hipertension', 'Diabetes', 'Alcoholism', 'SMS_received']\n",
    "for c in columns_tf:\n",
    "    df[c] = df[c].map({1: True, 0: False})"
   ]
  },
  {
   "cell_type": "code",
   "execution_count": 18,
   "metadata": {},
   "outputs": [
    {
     "data": {
      "text/html": [
       "<div>\n",
       "<style scoped>\n",
       "    .dataframe tbody tr th:only-of-type {\n",
       "        vertical-align: middle;\n",
       "    }\n",
       "\n",
       "    .dataframe tbody tr th {\n",
       "        vertical-align: top;\n",
       "    }\n",
       "\n",
       "    .dataframe thead th {\n",
       "        text-align: right;\n",
       "    }\n",
       "</style>\n",
       "<table border=\"1\" class=\"dataframe\">\n",
       "  <thead>\n",
       "    <tr style=\"text-align: right;\">\n",
       "      <th></th>\n",
       "      <th>PatientId</th>\n",
       "      <th>AppointmentID</th>\n",
       "      <th>Gender</th>\n",
       "      <th>ScheduledDay</th>\n",
       "      <th>AppointmentDay</th>\n",
       "      <th>Age</th>\n",
       "      <th>Neighbourhood</th>\n",
       "      <th>Scholarship</th>\n",
       "      <th>Hipertension</th>\n",
       "      <th>Diabetes</th>\n",
       "      <th>Alcoholism</th>\n",
       "      <th>Handcap</th>\n",
       "      <th>SMS_received</th>\n",
       "      <th>No-show</th>\n",
       "      <th>Waiting_days</th>\n",
       "    </tr>\n",
       "  </thead>\n",
       "  <tbody>\n",
       "    <tr>\n",
       "      <th>0</th>\n",
       "      <td>2.987250e+13</td>\n",
       "      <td>5642903</td>\n",
       "      <td>F</td>\n",
       "      <td>2016-04-29</td>\n",
       "      <td>2016-04-29</td>\n",
       "      <td>62</td>\n",
       "      <td>JARDIM DA PENHA</td>\n",
       "      <td>False</td>\n",
       "      <td>True</td>\n",
       "      <td>False</td>\n",
       "      <td>False</td>\n",
       "      <td>0</td>\n",
       "      <td>False</td>\n",
       "      <td>No</td>\n",
       "      <td>0</td>\n",
       "    </tr>\n",
       "    <tr>\n",
       "      <th>1</th>\n",
       "      <td>5.589978e+14</td>\n",
       "      <td>5642503</td>\n",
       "      <td>M</td>\n",
       "      <td>2016-04-29</td>\n",
       "      <td>2016-04-29</td>\n",
       "      <td>56</td>\n",
       "      <td>JARDIM DA PENHA</td>\n",
       "      <td>False</td>\n",
       "      <td>False</td>\n",
       "      <td>False</td>\n",
       "      <td>False</td>\n",
       "      <td>0</td>\n",
       "      <td>False</td>\n",
       "      <td>No</td>\n",
       "      <td>0</td>\n",
       "    </tr>\n",
       "    <tr>\n",
       "      <th>2</th>\n",
       "      <td>4.262962e+12</td>\n",
       "      <td>5642549</td>\n",
       "      <td>F</td>\n",
       "      <td>2016-04-29</td>\n",
       "      <td>2016-04-29</td>\n",
       "      <td>62</td>\n",
       "      <td>MATA DA PRAIA</td>\n",
       "      <td>False</td>\n",
       "      <td>False</td>\n",
       "      <td>False</td>\n",
       "      <td>False</td>\n",
       "      <td>0</td>\n",
       "      <td>False</td>\n",
       "      <td>No</td>\n",
       "      <td>0</td>\n",
       "    </tr>\n",
       "    <tr>\n",
       "      <th>3</th>\n",
       "      <td>8.679512e+11</td>\n",
       "      <td>5642828</td>\n",
       "      <td>F</td>\n",
       "      <td>2016-04-29</td>\n",
       "      <td>2016-04-29</td>\n",
       "      <td>8</td>\n",
       "      <td>PONTAL DE CAMBURI</td>\n",
       "      <td>False</td>\n",
       "      <td>False</td>\n",
       "      <td>False</td>\n",
       "      <td>False</td>\n",
       "      <td>0</td>\n",
       "      <td>False</td>\n",
       "      <td>No</td>\n",
       "      <td>0</td>\n",
       "    </tr>\n",
       "    <tr>\n",
       "      <th>4</th>\n",
       "      <td>8.841186e+12</td>\n",
       "      <td>5642494</td>\n",
       "      <td>F</td>\n",
       "      <td>2016-04-29</td>\n",
       "      <td>2016-04-29</td>\n",
       "      <td>56</td>\n",
       "      <td>JARDIM DA PENHA</td>\n",
       "      <td>False</td>\n",
       "      <td>True</td>\n",
       "      <td>True</td>\n",
       "      <td>False</td>\n",
       "      <td>0</td>\n",
       "      <td>False</td>\n",
       "      <td>No</td>\n",
       "      <td>0</td>\n",
       "    </tr>\n",
       "  </tbody>\n",
       "</table>\n",
       "</div>"
      ],
      "text/plain": [
       "      PatientId  AppointmentID Gender ScheduledDay AppointmentDay  Age  \\\n",
       "0  2.987250e+13        5642903      F   2016-04-29     2016-04-29   62   \n",
       "1  5.589978e+14        5642503      M   2016-04-29     2016-04-29   56   \n",
       "2  4.262962e+12        5642549      F   2016-04-29     2016-04-29   62   \n",
       "3  8.679512e+11        5642828      F   2016-04-29     2016-04-29    8   \n",
       "4  8.841186e+12        5642494      F   2016-04-29     2016-04-29   56   \n",
       "\n",
       "       Neighbourhood  Scholarship  Hipertension  Diabetes  Alcoholism  \\\n",
       "0    JARDIM DA PENHA        False          True     False       False   \n",
       "1    JARDIM DA PENHA        False         False     False       False   \n",
       "2      MATA DA PRAIA        False         False     False       False   \n",
       "3  PONTAL DE CAMBURI        False         False     False       False   \n",
       "4    JARDIM DA PENHA        False          True      True       False   \n",
       "\n",
       "   Handcap  SMS_received No-show  Waiting_days  \n",
       "0        0         False      No             0  \n",
       "1        0         False      No             0  \n",
       "2        0         False      No             0  \n",
       "3        0         False      No             0  \n",
       "4        0         False      No             0  "
      ]
     },
     "execution_count": 18,
     "metadata": {},
     "output_type": "execute_result"
    }
   ],
   "source": [
    "df.head()"
   ]
  },
  {
   "cell_type": "markdown",
   "metadata": {},
   "source": [
    "### Cleaning the Age Column"
   ]
  },
  {
   "cell_type": "code",
   "execution_count": 19,
   "metadata": {},
   "outputs": [
    {
     "data": {
      "text/plain": [
       "count    110522.000000\n",
       "mean         37.089041\n",
       "std          23.110064\n",
       "min          -1.000000\n",
       "25%          18.000000\n",
       "50%          37.000000\n",
       "75%          55.000000\n",
       "max         115.000000\n",
       "Name: Age, dtype: float64"
      ]
     },
     "execution_count": 19,
     "metadata": {},
     "output_type": "execute_result"
    }
   ],
   "source": [
    "df.describe()['Age']"
   ]
  },
  {
   "cell_type": "markdown",
   "metadata": {},
   "source": [
    "<a id='eda'></a>\n",
    "## Exploratory Data Analysis\n",
    "\n",
    "\n",
    "\n",
    "### Q1: Patients that receive SMS are more likely to show up?"
   ]
  },
  {
   "cell_type": "code",
   "execution_count": 20,
   "metadata": {},
   "outputs": [
    {
     "data": {
      "text/plain": [
       "False    75040\n",
       "True     35482\n",
       "Name: SMS_received, dtype: int64"
      ]
     },
     "execution_count": 20,
     "metadata": {},
     "output_type": "execute_result"
    }
   ],
   "source": [
    "df['SMS_received'].value_counts() #most of the patients didn't receive the SMS"
   ]
  },
  {
   "cell_type": "code",
   "execution_count": 21,
   "metadata": {},
   "outputs": [],
   "source": [
    "sms_true = df.query('SMS_received == True')"
   ]
  },
  {
   "cell_type": "code",
   "execution_count": 22,
   "metadata": {},
   "outputs": [],
   "source": [
    "sms_false = df.query('SMS_received == False')"
   ]
  },
  {
   "cell_type": "code",
   "execution_count": 23,
   "metadata": {},
   "outputs": [
    {
     "data": {
      "image/png": "[encoded data removed]",
      "text/plain": [
       "<Figure size 432x288 with 1 Axes>"
      ]
     },
     "metadata": {
      "needs_background": "light"
     },
     "output_type": "display_data"
    }
   ],
   "source": [
    "sms_true.groupby('No-show')['Age'].count().plot(kind='bar', alpha=0.8, color='blue', label='Received SMS');\n",
    "sms_false.groupby('No-show')['Age'].count().plot(kind='bar', alpha=0.2, color='red', label='Did not Receive SMS');\n",
    "plt.legend();\n",
    "plt.title('SMS received and No-Show');"
   ]
  },
  {
   "cell_type": "markdown",
   "metadata": {},
   "source": [
    "It's hard to tell because most of the patients did not receive the SMS, let's check how it works making it proportional"
   ]
  },
  {
   "cell_type": "code",
   "execution_count": 24,
   "metadata": {},
   "outputs": [
    {
     "data": {
      "text/plain": [
       "SMS_received  No-show\n",
       "False         No         62510\n",
       "              Yes        12530\n",
       "True          No         25698\n",
       "              Yes         9784\n",
       "Name: Age, dtype: int64"
      ]
     },
     "execution_count": 24,
     "metadata": {},
     "output_type": "execute_result"
    }
   ],
   "source": [
    "sms_counts = df.groupby(['SMS_received', 'No-show']).count()['Age']\n",
    "\n",
    "sms_counts"
   ]
  },
  {
   "cell_type": "code",
   "execution_count": 25,
   "metadata": {},
   "outputs": [
    {
     "data": {
      "text/plain": [
       "SMS_received\n",
       "False    75040\n",
       "True     35482\n",
       "Name: Age, dtype: int64"
      ]
     },
     "execution_count": 25,
     "metadata": {},
     "output_type": "execute_result"
    }
   ],
   "source": [
    "sms_total = df.groupby('SMS_received')['Age'].count()\n",
    "\n",
    "sms_total"
   ]
  },
  {
   "cell_type": "code",
   "execution_count": 26,
   "metadata": {},
   "outputs": [
    {
     "data": {
      "text/plain": [
       "No-show\n",
       "No     0.724255\n",
       "Yes    0.275745\n",
       "Name: Age, dtype: float64"
      ]
     },
     "execution_count": 26,
     "metadata": {},
     "output_type": "execute_result"
    }
   ],
   "source": [
    "sms_true = sms_counts[True] / sms_total[True]\n",
    "\n",
    "sms_true"
   ]
  },
  {
   "cell_type": "code",
   "execution_count": 27,
   "metadata": {},
   "outputs": [
    {
     "data": {
      "text/plain": [
       "No-show\n",
       "No     0.833022\n",
       "Yes    0.166978\n",
       "Name: Age, dtype: float64"
      ]
     },
     "execution_count": 27,
     "metadata": {},
     "output_type": "execute_result"
    }
   ],
   "source": [
    "sms_false = sms_counts[False] / sms_total[False]\n",
    "\n",
    "sms_false"
   ]
  },
  {
   "cell_type": "code",
   "execution_count": 28,
   "metadata": {},
   "outputs": [
    {
     "data": {
      "image/png": "[encoded data removed]",
      "text/plain": [
       "<Figure size 432x288 with 1 Axes>"
      ]
     },
     "metadata": {
      "needs_background": "light"
     },
     "output_type": "display_data"
    }
   ],
   "source": [
    "sms_true.plot(kind='bar', color='blue', alpha=0.5, label='Received SMS');\n",
    "sms_false.plot(kind='bar', color='red', alpha=0.5, label='Did not receive SMS');\n",
    "plt.title('SMS received and No-show Proportional')\n",
    "plt.ylabel('Proportion')\n",
    "plt.legend();"
   ]
  },
  {
   "cell_type": "markdown",
   "metadata": {},
   "source": [
    "It looks like the SMS system is not very effective, patients that received the sms had more no-show than those who didn't receive it"
   ]
  },
  {
   "cell_type": "markdown",
   "metadata": {},
   "source": [
    "### Q2: Patients that wait longer are more likely to no-show ?"
   ]
  },
  {
   "cell_type": "code",
   "execution_count": 29,
   "metadata": {},
   "outputs": [
    {
     "data": {
      "text/plain": [
       "No-show\n",
       "No      8.754659\n",
       "Yes    15.835484\n",
       "Name: Waiting_days, dtype: float64"
      ]
     },
     "execution_count": 29,
     "metadata": {},
     "output_type": "execute_result"
    }
   ],
   "source": [
    "df.groupby('No-show')['Waiting_days'].mean()\n"
   ]
  },
  {
   "cell_type": "code",
   "execution_count": 30,
   "metadata": {},
   "outputs": [
    {
     "data": {
      "image/png": "[encoded data removed]",
      "text/plain": [
       "<Figure size 432x288 with 1 Axes>"
      ]
     },
     "metadata": {
      "needs_background": "light"
     },
     "output_type": "display_data"
    }
   ],
   "source": [
    "df.groupby('No-show')['Waiting_days'].mean().plot(kind='bar');\n",
    "plt.ylabel('Average waiting days');\n",
    "plt.title('Average waiting days and No-show');\n"
   ]
  },
  {
   "cell_type": "markdown",
   "metadata": {},
   "source": [
    "Yes, it looks like that patients with longer waiting time had showed up less."
   ]
  },
  {
   "cell_type": "markdown",
   "metadata": {},
   "source": [
    "## Q3: Patients that receive scholarship (\"Bolsa Família\") are more likely to no-show?"
   ]
  },
  {
   "cell_type": "code",
   "execution_count": 31,
   "metadata": {},
   "outputs": [
    {
     "data": {
      "text/plain": [
       "Scholarship\n",
       "False    99661\n",
       "True     10861\n",
       "Name: Age, dtype: int64"
      ]
     },
     "execution_count": 31,
     "metadata": {},
     "output_type": "execute_result"
    }
   ],
   "source": [
    "df.groupby('Scholarship').count()['Age']"
   ]
  },
  {
   "cell_type": "code",
   "execution_count": 32,
   "metadata": {},
   "outputs": [
    {
     "data": {
      "text/plain": [
       "0.0982700276867954"
      ]
     },
     "execution_count": 32,
     "metadata": {},
     "output_type": "execute_result"
    }
   ],
   "source": [
    "10861 / (99661 + 10861) ##Only 9.8% of the total receive scholarship, so to make it more fair let's do it proportional"
   ]
  },
  {
   "cell_type": "code",
   "execution_count": 33,
   "metadata": {},
   "outputs": [
    {
     "data": {
      "text/plain": [
       "Scholarship  No-show\n",
       "False        No         79925\n",
       "             Yes        19736\n",
       "True         No          8283\n",
       "             Yes         2578\n",
       "Name: Age, dtype: int64"
      ]
     },
     "execution_count": 33,
     "metadata": {},
     "output_type": "execute_result"
    }
   ],
   "source": [
    "bf_counts = df.groupby(['Scholarship', 'No-show']).count()['Age']\n",
    "\n",
    "bf_counts"
   ]
  },
  {
   "cell_type": "code",
   "execution_count": 34,
   "metadata": {},
   "outputs": [
    {
     "data": {
      "text/plain": [
       "Scholarship\n",
       "False    99661\n",
       "True     10861\n",
       "Name: Age, dtype: int64"
      ]
     },
     "execution_count": 34,
     "metadata": {},
     "output_type": "execute_result"
    }
   ],
   "source": [
    "bf_total = df.groupby('Scholarship').count()['Age']\n",
    "\n",
    "bf_total"
   ]
  },
  {
   "cell_type": "code",
   "execution_count": 35,
   "metadata": {},
   "outputs": [
    {
     "data": {
      "text/plain": [
       "No-show\n",
       "No     0.762637\n",
       "Yes    0.237363\n",
       "Name: Age, dtype: float64"
      ]
     },
     "execution_count": 35,
     "metadata": {},
     "output_type": "execute_result"
    }
   ],
   "source": [
    "bf_true = bf_counts[True] / bf_total[True]\n",
    "\n",
    "bf_true"
   ]
  },
  {
   "cell_type": "code",
   "execution_count": 36,
   "metadata": {},
   "outputs": [
    {
     "data": {
      "text/plain": [
       "No-show\n",
       "No     0.801969\n",
       "Yes    0.198031\n",
       "Name: Age, dtype: float64"
      ]
     },
     "execution_count": 36,
     "metadata": {},
     "output_type": "execute_result"
    }
   ],
   "source": [
    "bf_false = bf_counts[False] / bf_total[False]\n",
    "\n",
    "bf_false"
   ]
  },
  {
   "cell_type": "code",
   "execution_count": 37,
   "metadata": {},
   "outputs": [
    {
     "data": {
      "image/png": "[encoded data removed]",
      "text/plain": [
       "<Figure size 432x288 with 1 Axes>"
      ]
     },
     "metadata": {
      "needs_background": "light"
     },
     "output_type": "display_data"
    }
   ],
   "source": [
    "bf_true.plot(kind='bar', alpha=0.5, color='blue', label='Receive Scholarship');\n",
    "bf_false.plot(kind='bar', alpha=0.5, color='red', label='Dont Receive Scholarship');\n",
    "plt.ylabel('Proportional');\n",
    "plt.title('Scholarship patients and No-show propotional')\n",
    "plt.legend();"
   ]
  },
  {
   "cell_type": "markdown",
   "metadata": {},
   "source": [
    "Yes, apparently patients that receive the scholarship \"Bolsa Família\" are more likely to have no-show"
   ]
  },
  {
   "cell_type": "markdown",
   "metadata": {},
   "source": [
    "### Q4: Is there any relations between the age of the patients and the diseases?"
   ]
  },
  {
   "cell_type": "code",
   "execution_count": 38,
   "metadata": {},
   "outputs": [],
   "source": [
    "diseases = ['Hipertension', 'Diabetes', 'Alcoholism']\n",
    "df_d = df.groupby('Age')[diseases].sum()"
   ]
  },
  {
   "cell_type": "code",
   "execution_count": 39,
   "metadata": {
    "scrolled": true
   },
   "outputs": [
    {
     "data": {
      "image/png": "[encoded data removed]",
      "text/plain": [
       "<Figure size 432x288 with 1 Axes>"
      ]
     },
     "metadata": {
      "needs_background": "light"
     },
     "output_type": "display_data"
    }
   ],
   "source": [
    "df_d.plot(kind='line');\n",
    "plt.ylabel('Number of patients');\n",
    "plt.title('Diseases by Age range');"
   ]
  },
  {
   "cell_type": "code",
   "execution_count": 40,
   "metadata": {},
   "outputs": [
    {
     "data": {
      "text/html": [
       "<style  type=\"text/css\" >\n",
       "    #T_c6b4c06c_9bc7_11ea_be71_60a44cc5a201row0_col0 {\n",
       "            background-color:  #b40426;\n",
       "            color:  #f1f1f1;\n",
       "        }    #T_c6b4c06c_9bc7_11ea_be71_60a44cc5a201row0_col1 {\n",
       "            background-color:  #c53334;\n",
       "            color:  #f1f1f1;\n",
       "        }    #T_c6b4c06c_9bc7_11ea_be71_60a44cc5a201row0_col2 {\n",
       "            background-color:  #7b9ff9;\n",
       "            color:  #000000;\n",
       "        }    #T_c6b4c06c_9bc7_11ea_be71_60a44cc5a201row1_col0 {\n",
       "            background-color:  #ca3b37;\n",
       "            color:  #f1f1f1;\n",
       "        }    #T_c6b4c06c_9bc7_11ea_be71_60a44cc5a201row1_col1 {\n",
       "            background-color:  #b40426;\n",
       "            color:  #f1f1f1;\n",
       "        }    #T_c6b4c06c_9bc7_11ea_be71_60a44cc5a201row1_col2 {\n",
       "            background-color:  #3b4cc0;\n",
       "            color:  #f1f1f1;\n",
       "        }    #T_c6b4c06c_9bc7_11ea_be71_60a44cc5a201row2_col0 {\n",
       "            background-color:  #3b4cc0;\n",
       "            color:  #f1f1f1;\n",
       "        }    #T_c6b4c06c_9bc7_11ea_be71_60a44cc5a201row2_col1 {\n",
       "            background-color:  #3b4cc0;\n",
       "            color:  #f1f1f1;\n",
       "        }    #T_c6b4c06c_9bc7_11ea_be71_60a44cc5a201row2_col2 {\n",
       "            background-color:  #b40426;\n",
       "            color:  #f1f1f1;\n",
       "        }</style><table id=\"T_c6b4c06c_9bc7_11ea_be71_60a44cc5a201\" ><thead>    <tr>        <th class=\"blank level0\" ></th>        <th class=\"col_heading level0 col0\" >Hipertension</th>        <th class=\"col_heading level0 col1\" >Diabetes</th>        <th class=\"col_heading level0 col2\" >Alcoholism</th>    </tr></thead><tbody>\n",
       "                <tr>\n",
       "                        <th id=\"T_c6b4c06c_9bc7_11ea_be71_60a44cc5a201level0_row0\" class=\"row_heading level0 row0\" >Hipertension</th>\n",
       "                        <td id=\"T_c6b4c06c_9bc7_11ea_be71_60a44cc5a201row0_col0\" class=\"data row0 col0\" >1.000000</td>\n",
       "                        <td id=\"T_c6b4c06c_9bc7_11ea_be71_60a44cc5a201row0_col1\" class=\"data row0 col1\" >0.978554</td>\n",
       "                        <td id=\"T_c6b4c06c_9bc7_11ea_be71_60a44cc5a201row0_col2\" class=\"data row0 col2\" >0.650804</td>\n",
       "            </tr>\n",
       "            <tr>\n",
       "                        <th id=\"T_c6b4c06c_9bc7_11ea_be71_60a44cc5a201level0_row1\" class=\"row_heading level0 row1\" >Diabetes</th>\n",
       "                        <td id=\"T_c6b4c06c_9bc7_11ea_be71_60a44cc5a201row1_col0\" class=\"data row1 col0\" >0.978554</td>\n",
       "                        <td id=\"T_c6b4c06c_9bc7_11ea_be71_60a44cc5a201row1_col1\" class=\"data row1 col1\" >1.000000</td>\n",
       "                        <td id=\"T_c6b4c06c_9bc7_11ea_be71_60a44cc5a201row1_col2\" class=\"data row1 col2\" >0.562730</td>\n",
       "            </tr>\n",
       "            <tr>\n",
       "                        <th id=\"T_c6b4c06c_9bc7_11ea_be71_60a44cc5a201level0_row2\" class=\"row_heading level0 row2\" >Alcoholism</th>\n",
       "                        <td id=\"T_c6b4c06c_9bc7_11ea_be71_60a44cc5a201row2_col0\" class=\"data row2 col0\" >0.650804</td>\n",
       "                        <td id=\"T_c6b4c06c_9bc7_11ea_be71_60a44cc5a201row2_col1\" class=\"data row2 col1\" >0.562730</td>\n",
       "                        <td id=\"T_c6b4c06c_9bc7_11ea_be71_60a44cc5a201row2_col2\" class=\"data row2 col2\" >1.000000</td>\n",
       "            </tr>\n",
       "    </tbody></table>"
      ],
      "text/plain": [
       "<pandas.io.formats.style.Styler at 0x1c02cbd8848>"
      ]
     },
     "execution_count": 40,
     "metadata": {},
     "output_type": "execute_result"
    }
   ],
   "source": [
    "corr_diseases = df_d.corr()\n",
    "corr_diseases.style.background_gradient(cmap='coolwarm')"
   ]
  },
  {
   "cell_type": "code",
   "execution_count": 41,
   "metadata": {},
   "outputs": [
    {
     "data": {
      "image/png": "[encoded data removed]",
      "text/plain": [
       "<Figure size 432x288 with 1 Axes>"
      ]
     },
     "metadata": {
      "needs_background": "light"
     },
     "output_type": "display_data"
    }
   ],
   "source": [
    "df_d.plot.scatter(x='Hipertension', y='Diabetes');\n",
    "plt.title('Correlation between Hipertension and Diabetes');"
   ]
  },
  {
   "cell_type": "markdown",
   "metadata": {},
   "source": [
    "Hipertension is the most common disease,\n",
    "Alcoholism seems to be present more  in adults,\n",
    "Diabetes it's more common at the elders\n",
    "Hipertension and Diabetes are very correlated"
   ]
  },
  {
   "cell_type": "markdown",
   "metadata": {},
   "source": [
    "## Q5: How the diseases behave by gender?"
   ]
  },
  {
   "cell_type": "code",
   "execution_count": 42,
   "metadata": {},
   "outputs": [
    {
     "data": {
      "text/html": [
       "<div>\n",
       "<style scoped>\n",
       "    .dataframe tbody tr th:only-of-type {\n",
       "        vertical-align: middle;\n",
       "    }\n",
       "\n",
       "    .dataframe tbody tr th {\n",
       "        vertical-align: top;\n",
       "    }\n",
       "\n",
       "    .dataframe thead th {\n",
       "        text-align: right;\n",
       "    }\n",
       "</style>\n",
       "<table border=\"1\" class=\"dataframe\">\n",
       "  <thead>\n",
       "    <tr style=\"text-align: right;\">\n",
       "      <th></th>\n",
       "      <th>Hipertension</th>\n",
       "      <th>Diabetes</th>\n",
       "      <th>Alcoholism</th>\n",
       "    </tr>\n",
       "    <tr>\n",
       "      <th>Gender</th>\n",
       "      <th></th>\n",
       "      <th></th>\n",
       "      <th></th>\n",
       "    </tr>\n",
       "  </thead>\n",
       "  <tbody>\n",
       "    <tr>\n",
       "      <th>F</th>\n",
       "      <td>15339.0</td>\n",
       "      <td>5606.0</td>\n",
       "      <td>1223.0</td>\n",
       "    </tr>\n",
       "    <tr>\n",
       "      <th>M</th>\n",
       "      <td>6462.0</td>\n",
       "      <td>2337.0</td>\n",
       "      <td>2137.0</td>\n",
       "    </tr>\n",
       "  </tbody>\n",
       "</table>\n",
       "</div>"
      ],
      "text/plain": [
       "        Hipertension  Diabetes  Alcoholism\n",
       "Gender                                    \n",
       "F            15339.0    5606.0      1223.0\n",
       "M             6462.0    2337.0      2137.0"
      ]
     },
     "execution_count": 42,
     "metadata": {},
     "output_type": "execute_result"
    }
   ],
   "source": [
    "gd = df.groupby('Gender')[diseases].sum()\n",
    "\n",
    "gd"
   ]
  },
  {
   "cell_type": "code",
   "execution_count": 43,
   "metadata": {
    "scrolled": true
   },
   "outputs": [
    {
     "data": {
      "image/png": "[encoded data removed]",
      "text/plain": [
       "<Figure size 432x288 with 1 Axes>"
      ]
     },
     "metadata": {
      "needs_background": "light"
     },
     "output_type": "display_data"
    }
   ],
   "source": [
    "gd.plot(kind='bar');\n",
    "plt.ylabel('Number of patients');\n",
    "plt.title('Relation between Gender and Diseases');"
   ]
  },
  {
   "cell_type": "markdown",
   "metadata": {},
   "source": [
    "<a id='conclusions'></a>\n",
    "## Conclusions\n",
    "\n",
    "> This dataset was full of informations and there are multiple ways to analyse it, the questions made here focused in two aspects:\n",
    "\n",
    "> What can have influence in the No-show? and how the diseases are related with the age of the patients and also with itselfs?\n",
    "\n",
    "> To answer the first topic, we looked first at the SMS system, it make sense that patients that receive SMS will have less chances of forgetting the appointment. However, what we verified was that most of the patients didn't get SMS and even the small group that received it, they  had more no-show if compared with those that did not receive it.\n",
    "\n",
    "> The second question related to no-show was about the waiting time, patients that wait longer are less likely to show up.\n",
    "\n",
    "> The scholarship \"Bolsa Família\" is a large government program for income distribution in Brazil, so the families that receive it usually have lower incomes and strugle more. We asked if the families that receive this bennefit are more likely to have a no-show, the answer was yes.\n",
    "\n",
    "> About the diseases, when we plotted by age, the line graph showed that the most common disease is hipertension, alcohlism is more common in adults and diabetes in the elders. There is also a very close correletion between Hipertension and Diabetes.\n",
    "\n",
    "> After that we ploted by gender, and looks like Men are way more likely to have alcoholism than Women, even though there was way more men patients than women.\n",
    "\n",
    "## Limitations\n",
    "\n",
    "> There is a lot of information in the dataset, but the timeline is too short to make definitve conclusions.\n",
    "\n",
    "> It would be intersting to know the method of transportation of the patients.\n",
    "\n",
    "> It would be good to have a column with patient job/occupation.\n",
    "\n",
    "## References\n",
    ">Reference 1: To drop the line with inconsistent dates:\n",
    "\n",
    "https://stackoverflow.com/questions/18172851/deleting-dataframe-row-in-pandas-based-on-column-value\n",
    "\n",
    ">Reference 2: To convert the 1 and 0 to True and False:\n",
    "\n",
    "https://www.w3resource.com/python-exercises/pandas/python-pandas-data-frame-exercise-17.php\n",
    "\n",
    ">Reference 3: To convert string into data format:\n",
    "\n",
    "https://www.w3resource.com/pandas/dataframe/dataframe-apply.php\n",
    "\n",
    ">Reference 4: Correlation graph:\n",
    "\n",
    "https://stackoverflow.com/questions/29432629/plot-correlation-matrix-using-pandas"
   ]
  }
 ],
 "metadata": {
  "kernelspec": {
   "display_name": "Python 3",
   "language": "python",
   "name": "python3"
  },
  "language_info": {
   "codemirror_mode": {
    "name": "ipython",
    "version": 3
   },
   "file_extension": ".py",
   "mimetype": "text/x-python",
   "name": "python",
   "nbconvert_exporter": "python",
   "pygments_lexer": "ipython3",
   "version": "3.7.6"
  }
 },
 "nbformat": 4,
 "nbformat_minor": 2
}
