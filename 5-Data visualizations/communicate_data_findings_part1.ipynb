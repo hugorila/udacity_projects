{
 "cells": [
  {
   "cell_type": "markdown",
   "metadata": {},
   "source": [
    "## Communicate Data Findings Project "
   ]
  },
  {
   "cell_type": "markdown",
   "metadata": {},
   "source": [
    "### Dataset selected: Ford GoBike System Data\n",
    "The dataset of 2019 bike share in California."
   ]
  },
  {
   "cell_type": "markdown",
   "metadata": {},
   "source": [
    "### Gathering"
   ]
  },
  {
   "cell_type": "code",
   "execution_count": 1,
   "metadata": {},
   "outputs": [],
   "source": [
    "## Packages necessary for this project\n",
    "import numpy as np\n",
    "import pandas as pd\n",
    "import matplotlib.pyplot as plt\n",
    "import seaborn as sns\n",
    "import requests\n",
    "import os\n",
    "\n",
    "%matplotlib inline"
   ]
  },
  {
   "cell_type": "code",
   "execution_count": 2,
   "metadata": {},
   "outputs": [],
   "source": [
    "## Gather data from url provided by Udacity\n",
    "folder_name = 'bikes_data'\n",
    "\n",
    "url_list = ['https://s3.amazonaws.com/baywheels-data/201901-fordgobike-tripdata.csv.zip',\n",
    "            'https://s3.amazonaws.com/baywheels-data/201902-fordgobike-tripdata.csv.zip',\n",
    "            'https://s3.amazonaws.com/baywheels-data/201903-fordgobike-tripdata.csv.zip',\n",
    "            'https://s3.amazonaws.com/baywheels-data/201904-fordgobike-tripdata.csv.zip',\n",
    "            'https://s3.amazonaws.com/baywheels-data/201905-baywheels-tripdata.csv.zip',\n",
    "            'https://s3.amazonaws.com/baywheels-data/201906-baywheels-tripdata.csv.zip',\n",
    "            'https://s3.amazonaws.com/baywheels-data/201907-baywheels-tripdata.csv.zip',\n",
    "            'https://s3.amazonaws.com/baywheels-data/201908-baywheels-tripdata.csv.zip',\n",
    "            'https://s3.amazonaws.com/baywheels-data/201909-baywheels-tripdata.csv.zip',\n",
    "            'https://s3.amazonaws.com/baywheels-data/201910-baywheels-tripdata.csv.zip',\n",
    "            'https://s3.amazonaws.com/baywheels-data/201911-baywheels-tripdata.csv.zip',\n",
    "            'https://s3.amazonaws.com/baywheels-data/201912-baywheels-tripdata.csv.zip']\n",
    "\n",
    "import zipfile, urllib.request, shutil\n",
    "\n",
    "for url in url_list:\n",
    "    with urllib.request.urlopen(url) as response, open(folder_name, 'wb') as out_file:\n",
    "        shutil.copyfileobj(response, out_file)\n",
    "    with zipfile.ZipFile(folder_name) as zf:\n",
    "        zf.extractall()"
   ]
  },
  {
   "cell_type": "markdown",
   "metadata": {},
   "source": [
    "## Accessing the data"
   ]
  },
  {
   "cell_type": "code",
   "execution_count": 3,
   "metadata": {},
   "outputs": [
    {
     "name": "stderr",
     "output_type": "stream",
     "text": [
      "C:\\Users\\Hugo\\anaconda3\\lib\\site-packages\\IPython\\core\\interactiveshell.py:3063: DtypeWarning: Columns (14) have mixed types.Specify dtype option on import or set low_memory=False.\n",
      "  interactivity=interactivity, compiler=compiler, result=result)\n",
      "C:\\Users\\Hugo\\anaconda3\\lib\\site-packages\\IPython\\core\\interactiveshell.py:3063: DtypeWarning: Columns (13,14) have mixed types.Specify dtype option on import or set low_memory=False.\n",
      "  interactivity=interactivity, compiler=compiler, result=result)\n",
      "C:\\Users\\Hugo\\anaconda3\\lib\\site-packages\\IPython\\core\\interactiveshell.py:3063: DtypeWarning: Columns (13) have mixed types.Specify dtype option on import or set low_memory=False.\n",
      "  interactivity=interactivity, compiler=compiler, result=result)\n"
     ]
    }
   ],
   "source": [
    "df_jan_19 = pd.read_csv('201901-fordgobike-tripdata.csv')\n",
    "df_feb_19 = pd.read_csv('201902-fordgobike-tripdata.csv')\n",
    "df_mar_19 = pd.read_csv('201903-fordgobike-tripdata.csv')\n",
    "df_apr_19 = pd.read_csv('201904-fordgobike-tripdata.csv')\n",
    "df_may_19 = pd.read_csv('201905-baywheels-tripdata.csv')\n",
    "df_jun_19 = pd.read_csv('201906-baywheels-tripdata.csv')\n",
    "df_jul_19 = pd.read_csv('201907-baywheels-tripdata.csv')\n",
    "df_aug_19 = pd.read_csv('201908-baywheels-tripdata.csv')\n",
    "df_sep_19 = pd.read_csv('201909-baywheels-tripdata.csv')\n",
    "df_oct_19 = pd.read_csv('201910-baywheels-tripdata.csv')\n",
    "df_nov_19 = pd.read_csv('201911-baywheels-tripdata.csv')\n",
    "df_dec_19 = pd.read_csv('201912-baywheels-tripdata.csv')"
   ]
  },
  {
   "cell_type": "markdown",
   "metadata": {},
   "source": [
    "### 2019"
   ]
  },
  {
   "cell_type": "code",
   "execution_count": 4,
   "metadata": {},
   "outputs": [
    {
     "data": {
      "text/html": [
       "<div>\n",
       "<style scoped>\n",
       "    .dataframe tbody tr th:only-of-type {\n",
       "        vertical-align: middle;\n",
       "    }\n",
       "\n",
       "    .dataframe tbody tr th {\n",
       "        vertical-align: top;\n",
       "    }\n",
       "\n",
       "    .dataframe thead th {\n",
       "        text-align: right;\n",
       "    }\n",
       "</style>\n",
       "<table border=\"1\" class=\"dataframe\">\n",
       "  <thead>\n",
       "    <tr style=\"text-align: right;\">\n",
       "      <th></th>\n",
       "      <th>duration_sec</th>\n",
       "      <th>start_time</th>\n",
       "      <th>end_time</th>\n",
       "      <th>start_station_id</th>\n",
       "      <th>start_station_name</th>\n",
       "      <th>start_station_latitude</th>\n",
       "      <th>start_station_longitude</th>\n",
       "      <th>end_station_id</th>\n",
       "      <th>end_station_name</th>\n",
       "      <th>end_station_latitude</th>\n",
       "      <th>end_station_longitude</th>\n",
       "      <th>bike_id</th>\n",
       "      <th>user_type</th>\n",
       "      <th>bike_share_for_all_trip</th>\n",
       "    </tr>\n",
       "  </thead>\n",
       "  <tbody>\n",
       "    <tr>\n",
       "      <th>0</th>\n",
       "      <td>80825</td>\n",
       "      <td>2019-01-31 17:57:44.6130</td>\n",
       "      <td>2019-02-01 16:24:49.8640</td>\n",
       "      <td>229.0</td>\n",
       "      <td>Foothill Blvd at 42nd Ave</td>\n",
       "      <td>37.775745</td>\n",
       "      <td>-122.213037</td>\n",
       "      <td>196.0</td>\n",
       "      <td>Grand Ave at Perkins St</td>\n",
       "      <td>37.808894</td>\n",
       "      <td>-122.256460</td>\n",
       "      <td>4861</td>\n",
       "      <td>Subscriber</td>\n",
       "      <td>No</td>\n",
       "    </tr>\n",
       "    <tr>\n",
       "      <th>1</th>\n",
       "      <td>65900</td>\n",
       "      <td>2019-01-31 20:58:33.8860</td>\n",
       "      <td>2019-02-01 15:16:54.1730</td>\n",
       "      <td>4.0</td>\n",
       "      <td>Cyril Magnin St at Ellis St</td>\n",
       "      <td>37.785881</td>\n",
       "      <td>-122.408915</td>\n",
       "      <td>134.0</td>\n",
       "      <td>Valencia St at 24th St</td>\n",
       "      <td>37.752428</td>\n",
       "      <td>-122.420628</td>\n",
       "      <td>5506</td>\n",
       "      <td>Subscriber</td>\n",
       "      <td>No</td>\n",
       "    </tr>\n",
       "    <tr>\n",
       "      <th>2</th>\n",
       "      <td>62633</td>\n",
       "      <td>2019-01-31 18:06:52.9240</td>\n",
       "      <td>2019-02-01 11:30:46.5300</td>\n",
       "      <td>245.0</td>\n",
       "      <td>Downtown Berkeley BART</td>\n",
       "      <td>37.870139</td>\n",
       "      <td>-122.268422</td>\n",
       "      <td>157.0</td>\n",
       "      <td>65th St at Hollis St</td>\n",
       "      <td>37.846784</td>\n",
       "      <td>-122.291376</td>\n",
       "      <td>2717</td>\n",
       "      <td>Customer</td>\n",
       "      <td>No</td>\n",
       "    </tr>\n",
       "    <tr>\n",
       "      <th>3</th>\n",
       "      <td>44680</td>\n",
       "      <td>2019-01-31 19:46:09.7190</td>\n",
       "      <td>2019-02-01 08:10:50.3180</td>\n",
       "      <td>85.0</td>\n",
       "      <td>Church St at Duboce Ave</td>\n",
       "      <td>37.770083</td>\n",
       "      <td>-122.429156</td>\n",
       "      <td>53.0</td>\n",
       "      <td>Grove St at Divisadero</td>\n",
       "      <td>37.775946</td>\n",
       "      <td>-122.437777</td>\n",
       "      <td>4557</td>\n",
       "      <td>Customer</td>\n",
       "      <td>No</td>\n",
       "    </tr>\n",
       "  </tbody>\n",
       "</table>\n",
       "</div>"
      ],
      "text/plain": [
       "   duration_sec                start_time                  end_time  \\\n",
       "0         80825  2019-01-31 17:57:44.6130  2019-02-01 16:24:49.8640   \n",
       "1         65900  2019-01-31 20:58:33.8860  2019-02-01 15:16:54.1730   \n",
       "2         62633  2019-01-31 18:06:52.9240  2019-02-01 11:30:46.5300   \n",
       "3         44680  2019-01-31 19:46:09.7190  2019-02-01 08:10:50.3180   \n",
       "\n",
       "   start_station_id           start_station_name  start_station_latitude  \\\n",
       "0             229.0    Foothill Blvd at 42nd Ave               37.775745   \n",
       "1               4.0  Cyril Magnin St at Ellis St               37.785881   \n",
       "2             245.0       Downtown Berkeley BART               37.870139   \n",
       "3              85.0      Church St at Duboce Ave               37.770083   \n",
       "\n",
       "   start_station_longitude  end_station_id         end_station_name  \\\n",
       "0              -122.213037           196.0  Grand Ave at Perkins St   \n",
       "1              -122.408915           134.0   Valencia St at 24th St   \n",
       "2              -122.268422           157.0     65th St at Hollis St   \n",
       "3              -122.429156            53.0   Grove St at Divisadero   \n",
       "\n",
       "   end_station_latitude  end_station_longitude  bike_id   user_type  \\\n",
       "0             37.808894            -122.256460     4861  Subscriber   \n",
       "1             37.752428            -122.420628     5506  Subscriber   \n",
       "2             37.846784            -122.291376     2717    Customer   \n",
       "3             37.775946            -122.437777     4557    Customer   \n",
       "\n",
       "  bike_share_for_all_trip  \n",
       "0                      No  \n",
       "1                      No  \n",
       "2                      No  \n",
       "3                      No  "
      ]
     },
     "execution_count": 4,
     "metadata": {},
     "output_type": "execute_result"
    }
   ],
   "source": [
    "df_jan_19.head(4)"
   ]
  },
  {
   "cell_type": "code",
   "execution_count": 5,
   "metadata": {},
   "outputs": [
    {
     "name": "stdout",
     "output_type": "stream",
     "text": [
      "<class 'pandas.core.frame.DataFrame'>\n",
      "RangeIndex: 191772 entries, 0 to 191771\n",
      "Data columns (total 15 columns):\n",
      " #   Column                   Non-Null Count   Dtype  \n",
      "---  ------                   --------------   -----  \n",
      " 0   duration_sec             191772 non-null  int64  \n",
      " 1   start_time               191772 non-null  object \n",
      " 2   end_time                 191772 non-null  object \n",
      " 3   start_station_id         189612 non-null  float64\n",
      " 4   start_station_name       189612 non-null  object \n",
      " 5   start_station_latitude   191772 non-null  float64\n",
      " 6   start_station_longitude  191772 non-null  float64\n",
      " 7   end_station_id           189510 non-null  float64\n",
      " 8   end_station_name         189510 non-null  object \n",
      " 9   end_station_latitude     191772 non-null  float64\n",
      " 10  end_station_longitude    191772 non-null  float64\n",
      " 11  bike_id                  191772 non-null  int64  \n",
      " 12  user_type                191772 non-null  object \n",
      " 13  bike_share_for_all_trip  187879 non-null  object \n",
      " 14  rental_access_method     3893 non-null    object \n",
      "dtypes: float64(6), int64(2), object(7)\n",
      "memory usage: 21.9+ MB\n"
     ]
    }
   ],
   "source": [
    "df_jun_19.info()"
   ]
  },
  {
   "cell_type": "markdown",
   "metadata": {},
   "source": [
    "The columns `start_time` and `end_time` must be converted to date type\n",
    "\n",
    "The column `rental_access_method` is avaliable only in a few months, it should be deleted."
   ]
  },
  {
   "cell_type": "markdown",
   "metadata": {},
   "source": [
    "## Merging 2019 dataframes"
   ]
  },
  {
   "cell_type": "code",
   "execution_count": 6,
   "metadata": {},
   "outputs": [],
   "source": [
    "df_2019 = pd.concat([df_jan_19, df_feb_19, df_mar_19, df_apr_19, df_may_19, \n",
    "                   df_jun_19, df_jul_19, df_aug_19, df_sep_19, df_oct_19, df_nov_19, df_dec_19], ignore_index=True, sort=False)"
   ]
  },
  {
   "cell_type": "code",
   "execution_count": 7,
   "metadata": {
    "scrolled": false
   },
   "outputs": [
    {
     "name": "stdout",
     "output_type": "stream",
     "text": [
      "<class 'pandas.core.frame.DataFrame'>\n",
      "RangeIndex: 2506983 entries, 0 to 2506982\n",
      "Data columns (total 15 columns):\n",
      " #   Column                   Non-Null Count    Dtype  \n",
      "---  ------                   --------------    -----  \n",
      " 0   duration_sec             2506983 non-null  int64  \n",
      " 1   start_time               2506983 non-null  object \n",
      " 2   end_time                 2506983 non-null  object \n",
      " 3   start_station_id         2426249 non-null  float64\n",
      " 4   start_station_name       2426850 non-null  object \n",
      " 5   start_station_latitude   2506983 non-null  float64\n",
      " 6   start_station_longitude  2506983 non-null  float64\n",
      " 7   end_station_id           2424081 non-null  float64\n",
      " 8   end_station_name         2424633 non-null  object \n",
      " 9   end_station_latitude     2506983 non-null  float64\n",
      " 10  end_station_longitude    2506983 non-null  float64\n",
      " 11  bike_id                  2506983 non-null  int64  \n",
      " 12  user_type                2506983 non-null  object \n",
      " 13  bike_share_for_all_trip  2263724 non-null  object \n",
      " 14  rental_access_method     120838 non-null   object \n",
      "dtypes: float64(6), int64(2), object(7)\n",
      "memory usage: 286.9+ MB\n"
     ]
    }
   ],
   "source": [
    "df_2019.info(verbose=True, null_counts=True)"
   ]
  },
  {
   "cell_type": "markdown",
   "metadata": {},
   "source": [
    "Drop column `rental_access_method`."
   ]
  },
  {
   "cell_type": "code",
   "execution_count": 8,
   "metadata": {},
   "outputs": [],
   "source": [
    "df_2019.drop(columns=['rental_access_method'], inplace=True)"
   ]
  },
  {
   "cell_type": "code",
   "execution_count": 9,
   "metadata": {},
   "outputs": [
    {
     "name": "stdout",
     "output_type": "stream",
     "text": [
      "<class 'pandas.core.frame.DataFrame'>\n",
      "RangeIndex: 2506983 entries, 0 to 2506982\n",
      "Data columns (total 14 columns):\n",
      " #   Column                   Non-Null Count    Dtype  \n",
      "---  ------                   --------------    -----  \n",
      " 0   duration_sec             2506983 non-null  int64  \n",
      " 1   start_time               2506983 non-null  object \n",
      " 2   end_time                 2506983 non-null  object \n",
      " 3   start_station_id         2426249 non-null  float64\n",
      " 4   start_station_name       2426850 non-null  object \n",
      " 5   start_station_latitude   2506983 non-null  float64\n",
      " 6   start_station_longitude  2506983 non-null  float64\n",
      " 7   end_station_id           2424081 non-null  float64\n",
      " 8   end_station_name         2424633 non-null  object \n",
      " 9   end_station_latitude     2506983 non-null  float64\n",
      " 10  end_station_longitude    2506983 non-null  float64\n",
      " 11  bike_id                  2506983 non-null  int64  \n",
      " 12  user_type                2506983 non-null  object \n",
      " 13  bike_share_for_all_trip  2263724 non-null  object \n",
      "dtypes: float64(6), int64(2), object(6)\n",
      "memory usage: 267.8+ MB\n"
     ]
    }
   ],
   "source": [
    "df_2019.info(verbose=True, null_counts=True)"
   ]
  },
  {
   "cell_type": "code",
   "execution_count": 10,
   "metadata": {},
   "outputs": [
    {
     "data": {
      "text/html": [
       "<div>\n",
       "<style scoped>\n",
       "    .dataframe tbody tr th:only-of-type {\n",
       "        vertical-align: middle;\n",
       "    }\n",
       "\n",
       "    .dataframe tbody tr th {\n",
       "        vertical-align: top;\n",
       "    }\n",
       "\n",
       "    .dataframe thead th {\n",
       "        text-align: right;\n",
       "    }\n",
       "</style>\n",
       "<table border=\"1\" class=\"dataframe\">\n",
       "  <thead>\n",
       "    <tr style=\"text-align: right;\">\n",
       "      <th></th>\n",
       "      <th>duration_sec</th>\n",
       "      <th>start_time</th>\n",
       "      <th>end_time</th>\n",
       "      <th>start_station_id</th>\n",
       "      <th>start_station_name</th>\n",
       "      <th>start_station_latitude</th>\n",
       "      <th>start_station_longitude</th>\n",
       "      <th>end_station_id</th>\n",
       "      <th>end_station_name</th>\n",
       "      <th>end_station_latitude</th>\n",
       "      <th>end_station_longitude</th>\n",
       "      <th>bike_id</th>\n",
       "      <th>user_type</th>\n",
       "      <th>bike_share_for_all_trip</th>\n",
       "    </tr>\n",
       "  </thead>\n",
       "  <tbody>\n",
       "    <tr>\n",
       "      <th>2023</th>\n",
       "      <td>746</td>\n",
       "      <td>2019-01-31 18:21:27.0020</td>\n",
       "      <td>2019-01-31 18:33:53.0870</td>\n",
       "      <td>NaN</td>\n",
       "      <td>NaN</td>\n",
       "      <td>37.400000</td>\n",
       "      <td>-121.920000</td>\n",
       "      <td>NaN</td>\n",
       "      <td>NaN</td>\n",
       "      <td>37.410000</td>\n",
       "      <td>-121.940000</td>\n",
       "      <td>4244</td>\n",
       "      <td>Subscriber</td>\n",
       "      <td>No</td>\n",
       "    </tr>\n",
       "    <tr>\n",
       "      <th>2533</th>\n",
       "      <td>278</td>\n",
       "      <td>2019-01-31 18:00:28.2040</td>\n",
       "      <td>2019-01-31 18:05:07.0900</td>\n",
       "      <td>NaN</td>\n",
       "      <td>NaN</td>\n",
       "      <td>37.400000</td>\n",
       "      <td>-121.940000</td>\n",
       "      <td>NaN</td>\n",
       "      <td>NaN</td>\n",
       "      <td>37.400000</td>\n",
       "      <td>-121.940000</td>\n",
       "      <td>4249</td>\n",
       "      <td>Subscriber</td>\n",
       "      <td>Yes</td>\n",
       "    </tr>\n",
       "    <tr>\n",
       "      <th>3089</th>\n",
       "      <td>830</td>\n",
       "      <td>2019-01-31 17:23:59.3410</td>\n",
       "      <td>2019-01-31 17:37:50.0250</td>\n",
       "      <td>NaN</td>\n",
       "      <td>NaN</td>\n",
       "      <td>37.390000</td>\n",
       "      <td>-121.930000</td>\n",
       "      <td>NaN</td>\n",
       "      <td>NaN</td>\n",
       "      <td>37.400000</td>\n",
       "      <td>-121.930000</td>\n",
       "      <td>4208</td>\n",
       "      <td>Subscriber</td>\n",
       "      <td>No</td>\n",
       "    </tr>\n",
       "    <tr>\n",
       "      <th>5264</th>\n",
       "      <td>562</td>\n",
       "      <td>2019-01-31 13:29:18.5250</td>\n",
       "      <td>2019-01-31 13:38:41.0210</td>\n",
       "      <td>NaN</td>\n",
       "      <td>NaN</td>\n",
       "      <td>37.400000</td>\n",
       "      <td>-121.930000</td>\n",
       "      <td>NaN</td>\n",
       "      <td>NaN</td>\n",
       "      <td>37.390000</td>\n",
       "      <td>-121.930000</td>\n",
       "      <td>4208</td>\n",
       "      <td>Subscriber</td>\n",
       "      <td>No</td>\n",
       "    </tr>\n",
       "    <tr>\n",
       "      <th>5833</th>\n",
       "      <td>1676</td>\n",
       "      <td>2019-01-31 11:36:57.0450</td>\n",
       "      <td>2019-01-31 12:04:53.5010</td>\n",
       "      <td>NaN</td>\n",
       "      <td>NaN</td>\n",
       "      <td>37.400000</td>\n",
       "      <td>-121.940000</td>\n",
       "      <td>NaN</td>\n",
       "      <td>NaN</td>\n",
       "      <td>37.400000</td>\n",
       "      <td>-121.940000</td>\n",
       "      <td>4251</td>\n",
       "      <td>Customer</td>\n",
       "      <td>No</td>\n",
       "    </tr>\n",
       "    <tr>\n",
       "      <th>...</th>\n",
       "      <td>...</td>\n",
       "      <td>...</td>\n",
       "      <td>...</td>\n",
       "      <td>...</td>\n",
       "      <td>...</td>\n",
       "      <td>...</td>\n",
       "      <td>...</td>\n",
       "      <td>...</td>\n",
       "      <td>...</td>\n",
       "      <td>...</td>\n",
       "      <td>...</td>\n",
       "      <td>...</td>\n",
       "      <td>...</td>\n",
       "      <td>...</td>\n",
       "    </tr>\n",
       "    <tr>\n",
       "      <th>2506978</th>\n",
       "      <td>731</td>\n",
       "      <td>2019-12-28 18:37:29</td>\n",
       "      <td>2019-12-28 18:49:40</td>\n",
       "      <td>NaN</td>\n",
       "      <td>NaN</td>\n",
       "      <td>37.809731</td>\n",
       "      <td>-122.409855</td>\n",
       "      <td>NaN</td>\n",
       "      <td>NaN</td>\n",
       "      <td>37.807573</td>\n",
       "      <td>-122.421681</td>\n",
       "      <td>719651</td>\n",
       "      <td>Subscriber</td>\n",
       "      <td>NaN</td>\n",
       "    </tr>\n",
       "    <tr>\n",
       "      <th>2506979</th>\n",
       "      <td>748</td>\n",
       "      <td>2019-12-28 18:37:24</td>\n",
       "      <td>2019-12-28 18:49:53</td>\n",
       "      <td>NaN</td>\n",
       "      <td>NaN</td>\n",
       "      <td>37.809768</td>\n",
       "      <td>-122.409797</td>\n",
       "      <td>NaN</td>\n",
       "      <td>NaN</td>\n",
       "      <td>37.807558</td>\n",
       "      <td>-122.421638</td>\n",
       "      <td>655411</td>\n",
       "      <td>Subscriber</td>\n",
       "      <td>NaN</td>\n",
       "    </tr>\n",
       "    <tr>\n",
       "      <th>2506980</th>\n",
       "      <td>1044</td>\n",
       "      <td>2019-12-26 14:25:37</td>\n",
       "      <td>2019-12-26 14:43:02</td>\n",
       "      <td>NaN</td>\n",
       "      <td>NaN</td>\n",
       "      <td>37.810183</td>\n",
       "      <td>-122.410271</td>\n",
       "      <td>NaN</td>\n",
       "      <td>NaN</td>\n",
       "      <td>37.807225</td>\n",
       "      <td>-122.408850</td>\n",
       "      <td>936881</td>\n",
       "      <td>Subscriber</td>\n",
       "      <td>NaN</td>\n",
       "    </tr>\n",
       "    <tr>\n",
       "      <th>2506981</th>\n",
       "      <td>326</td>\n",
       "      <td>2019-12-30 20:35:43</td>\n",
       "      <td>2019-12-30 20:41:09</td>\n",
       "      <td>NaN</td>\n",
       "      <td>NaN</td>\n",
       "      <td>37.810471</td>\n",
       "      <td>-122.417386</td>\n",
       "      <td>NaN</td>\n",
       "      <td>NaN</td>\n",
       "      <td>37.803143</td>\n",
       "      <td>-122.414373</td>\n",
       "      <td>397539</td>\n",
       "      <td>Subscriber</td>\n",
       "      <td>NaN</td>\n",
       "    </tr>\n",
       "    <tr>\n",
       "      <th>2506982</th>\n",
       "      <td>4023</td>\n",
       "      <td>2019-12-31 19:26:48</td>\n",
       "      <td>2019-12-31 20:33:52</td>\n",
       "      <td>NaN</td>\n",
       "      <td>NaN</td>\n",
       "      <td>37.811042</td>\n",
       "      <td>-122.418149</td>\n",
       "      <td>NaN</td>\n",
       "      <td>NaN</td>\n",
       "      <td>37.810970</td>\n",
       "      <td>-122.418054</td>\n",
       "      <td>662304</td>\n",
       "      <td>Subscriber</td>\n",
       "      <td>NaN</td>\n",
       "    </tr>\n",
       "  </tbody>\n",
       "</table>\n",
       "<p>244004 rows × 14 columns</p>\n",
       "</div>"
      ],
      "text/plain": [
       "         duration_sec                start_time                  end_time  \\\n",
       "2023              746  2019-01-31 18:21:27.0020  2019-01-31 18:33:53.0870   \n",
       "2533              278  2019-01-31 18:00:28.2040  2019-01-31 18:05:07.0900   \n",
       "3089              830  2019-01-31 17:23:59.3410  2019-01-31 17:37:50.0250   \n",
       "5264              562  2019-01-31 13:29:18.5250  2019-01-31 13:38:41.0210   \n",
       "5833             1676  2019-01-31 11:36:57.0450  2019-01-31 12:04:53.5010   \n",
       "...               ...                       ...                       ...   \n",
       "2506978           731       2019-12-28 18:37:29       2019-12-28 18:49:40   \n",
       "2506979           748       2019-12-28 18:37:24       2019-12-28 18:49:53   \n",
       "2506980          1044       2019-12-26 14:25:37       2019-12-26 14:43:02   \n",
       "2506981           326       2019-12-30 20:35:43       2019-12-30 20:41:09   \n",
       "2506982          4023       2019-12-31 19:26:48       2019-12-31 20:33:52   \n",
       "\n",
       "         start_station_id start_station_name  start_station_latitude  \\\n",
       "2023                  NaN                NaN               37.400000   \n",
       "2533                  NaN                NaN               37.400000   \n",
       "3089                  NaN                NaN               37.390000   \n",
       "5264                  NaN                NaN               37.400000   \n",
       "5833                  NaN                NaN               37.400000   \n",
       "...                   ...                ...                     ...   \n",
       "2506978               NaN                NaN               37.809731   \n",
       "2506979               NaN                NaN               37.809768   \n",
       "2506980               NaN                NaN               37.810183   \n",
       "2506981               NaN                NaN               37.810471   \n",
       "2506982               NaN                NaN               37.811042   \n",
       "\n",
       "         start_station_longitude  end_station_id end_station_name  \\\n",
       "2023                 -121.920000             NaN              NaN   \n",
       "2533                 -121.940000             NaN              NaN   \n",
       "3089                 -121.930000             NaN              NaN   \n",
       "5264                 -121.930000             NaN              NaN   \n",
       "5833                 -121.940000             NaN              NaN   \n",
       "...                          ...             ...              ...   \n",
       "2506978              -122.409855             NaN              NaN   \n",
       "2506979              -122.409797             NaN              NaN   \n",
       "2506980              -122.410271             NaN              NaN   \n",
       "2506981              -122.417386             NaN              NaN   \n",
       "2506982              -122.418149             NaN              NaN   \n",
       "\n",
       "         end_station_latitude  end_station_longitude  bike_id   user_type  \\\n",
       "2023                37.410000            -121.940000     4244  Subscriber   \n",
       "2533                37.400000            -121.940000     4249  Subscriber   \n",
       "3089                37.400000            -121.930000     4208  Subscriber   \n",
       "5264                37.390000            -121.930000     4208  Subscriber   \n",
       "5833                37.400000            -121.940000     4251    Customer   \n",
       "...                       ...                    ...      ...         ...   \n",
       "2506978             37.807573            -122.421681   719651  Subscriber   \n",
       "2506979             37.807558            -122.421638   655411  Subscriber   \n",
       "2506980             37.807225            -122.408850   936881  Subscriber   \n",
       "2506981             37.803143            -122.414373   397539  Subscriber   \n",
       "2506982             37.810970            -122.418054   662304  Subscriber   \n",
       "\n",
       "        bike_share_for_all_trip  \n",
       "2023                         No  \n",
       "2533                        Yes  \n",
       "3089                         No  \n",
       "5264                         No  \n",
       "5833                         No  \n",
       "...                         ...  \n",
       "2506978                     NaN  \n",
       "2506979                     NaN  \n",
       "2506980                     NaN  \n",
       "2506981                     NaN  \n",
       "2506982                     NaN  \n",
       "\n",
       "[244004 rows x 14 columns]"
      ]
     },
     "execution_count": 10,
     "metadata": {},
     "output_type": "execute_result"
    }
   ],
   "source": [
    "df_2019[df_2019.isnull().any(axis=1)] # The month of december has some missing value"
   ]
  },
  {
   "cell_type": "code",
   "execution_count": 11,
   "metadata": {},
   "outputs": [
    {
     "data": {
      "text/html": [
       "<div>\n",
       "<style scoped>\n",
       "    .dataframe tbody tr th:only-of-type {\n",
       "        vertical-align: middle;\n",
       "    }\n",
       "\n",
       "    .dataframe tbody tr th {\n",
       "        vertical-align: top;\n",
       "    }\n",
       "\n",
       "    .dataframe thead th {\n",
       "        text-align: right;\n",
       "    }\n",
       "</style>\n",
       "<table border=\"1\" class=\"dataframe\">\n",
       "  <thead>\n",
       "    <tr style=\"text-align: right;\">\n",
       "      <th></th>\n",
       "      <th>duration_sec</th>\n",
       "      <th>start_time</th>\n",
       "      <th>end_time</th>\n",
       "      <th>start_station_id</th>\n",
       "      <th>start_station_name</th>\n",
       "      <th>start_station_latitude</th>\n",
       "      <th>start_station_longitude</th>\n",
       "      <th>end_station_id</th>\n",
       "      <th>end_station_name</th>\n",
       "      <th>end_station_latitude</th>\n",
       "      <th>end_station_longitude</th>\n",
       "      <th>bike_id</th>\n",
       "      <th>user_type</th>\n",
       "      <th>bike_share_for_all_trip</th>\n",
       "    </tr>\n",
       "  </thead>\n",
       "  <tbody>\n",
       "    <tr>\n",
       "      <th>2356881</th>\n",
       "      <td>66600</td>\n",
       "      <td>2019-12-31 14:28:50.2860</td>\n",
       "      <td>2020-01-01 08:58:51.2500</td>\n",
       "      <td>364.0</td>\n",
       "      <td>China Basin St at 3rd St</td>\n",
       "      <td>37.772000</td>\n",
       "      <td>-122.389970</td>\n",
       "      <td>349.0</td>\n",
       "      <td>Howard St at Mary St</td>\n",
       "      <td>37.781010</td>\n",
       "      <td>-122.405666</td>\n",
       "      <td>12085</td>\n",
       "      <td>Customer</td>\n",
       "      <td>NaN</td>\n",
       "    </tr>\n",
       "    <tr>\n",
       "      <th>2356882</th>\n",
       "      <td>36526</td>\n",
       "      <td>2019-12-31 21:52:47.7620</td>\n",
       "      <td>2020-01-01 08:01:33.9320</td>\n",
       "      <td>38.0</td>\n",
       "      <td>The Embarcadero at Pier 38</td>\n",
       "      <td>37.782926</td>\n",
       "      <td>-122.387921</td>\n",
       "      <td>410.0</td>\n",
       "      <td>Illinois St at Cesar Chavez St</td>\n",
       "      <td>37.750200</td>\n",
       "      <td>-122.386567</td>\n",
       "      <td>9477</td>\n",
       "      <td>Customer</td>\n",
       "      <td>NaN</td>\n",
       "    </tr>\n",
       "    <tr>\n",
       "      <th>2356883</th>\n",
       "      <td>8164</td>\n",
       "      <td>2019-12-31 23:50:04.8770</td>\n",
       "      <td>2020-01-01 02:06:09.4140</td>\n",
       "      <td>14.0</td>\n",
       "      <td>Clay St at Battery St</td>\n",
       "      <td>37.795001</td>\n",
       "      <td>-122.399970</td>\n",
       "      <td>6.0</td>\n",
       "      <td>The Embarcadero at Sansome St</td>\n",
       "      <td>37.804770</td>\n",
       "      <td>-122.403234</td>\n",
       "      <td>10420</td>\n",
       "      <td>Customer</td>\n",
       "      <td>NaN</td>\n",
       "    </tr>\n",
       "    <tr>\n",
       "      <th>2356884</th>\n",
       "      <td>8163</td>\n",
       "      <td>2019-12-31 23:49:21.4000</td>\n",
       "      <td>2020-01-01 02:05:24.6670</td>\n",
       "      <td>14.0</td>\n",
       "      <td>Clay St at Battery St</td>\n",
       "      <td>37.795001</td>\n",
       "      <td>-122.399970</td>\n",
       "      <td>6.0</td>\n",
       "      <td>The Embarcadero at Sansome St</td>\n",
       "      <td>37.804770</td>\n",
       "      <td>-122.403234</td>\n",
       "      <td>2065</td>\n",
       "      <td>Customer</td>\n",
       "      <td>NaN</td>\n",
       "    </tr>\n",
       "    <tr>\n",
       "      <th>2356885</th>\n",
       "      <td>6847</td>\n",
       "      <td>2019-12-31 22:51:05.6850</td>\n",
       "      <td>2020-01-01 00:45:13.4860</td>\n",
       "      <td>3.0</td>\n",
       "      <td>Powell St BART Station (Market St at 4th St)</td>\n",
       "      <td>37.786375</td>\n",
       "      <td>-122.404904</td>\n",
       "      <td>363.0</td>\n",
       "      <td>Salesforce Transit Center (Natoma St at 2nd St)</td>\n",
       "      <td>37.787492</td>\n",
       "      <td>-122.398285</td>\n",
       "      <td>10219</td>\n",
       "      <td>Customer</td>\n",
       "      <td>NaN</td>\n",
       "    </tr>\n",
       "    <tr>\n",
       "      <th>...</th>\n",
       "      <td>...</td>\n",
       "      <td>...</td>\n",
       "      <td>...</td>\n",
       "      <td>...</td>\n",
       "      <td>...</td>\n",
       "      <td>...</td>\n",
       "      <td>...</td>\n",
       "      <td>...</td>\n",
       "      <td>...</td>\n",
       "      <td>...</td>\n",
       "      <td>...</td>\n",
       "      <td>...</td>\n",
       "      <td>...</td>\n",
       "      <td>...</td>\n",
       "    </tr>\n",
       "    <tr>\n",
       "      <th>2506978</th>\n",
       "      <td>731</td>\n",
       "      <td>2019-12-28 18:37:29</td>\n",
       "      <td>2019-12-28 18:49:40</td>\n",
       "      <td>NaN</td>\n",
       "      <td>NaN</td>\n",
       "      <td>37.809731</td>\n",
       "      <td>-122.409855</td>\n",
       "      <td>NaN</td>\n",
       "      <td>NaN</td>\n",
       "      <td>37.807573</td>\n",
       "      <td>-122.421681</td>\n",
       "      <td>719651</td>\n",
       "      <td>Subscriber</td>\n",
       "      <td>NaN</td>\n",
       "    </tr>\n",
       "    <tr>\n",
       "      <th>2506979</th>\n",
       "      <td>748</td>\n",
       "      <td>2019-12-28 18:37:24</td>\n",
       "      <td>2019-12-28 18:49:53</td>\n",
       "      <td>NaN</td>\n",
       "      <td>NaN</td>\n",
       "      <td>37.809768</td>\n",
       "      <td>-122.409797</td>\n",
       "      <td>NaN</td>\n",
       "      <td>NaN</td>\n",
       "      <td>37.807558</td>\n",
       "      <td>-122.421638</td>\n",
       "      <td>655411</td>\n",
       "      <td>Subscriber</td>\n",
       "      <td>NaN</td>\n",
       "    </tr>\n",
       "    <tr>\n",
       "      <th>2506980</th>\n",
       "      <td>1044</td>\n",
       "      <td>2019-12-26 14:25:37</td>\n",
       "      <td>2019-12-26 14:43:02</td>\n",
       "      <td>NaN</td>\n",
       "      <td>NaN</td>\n",
       "      <td>37.810183</td>\n",
       "      <td>-122.410271</td>\n",
       "      <td>NaN</td>\n",
       "      <td>NaN</td>\n",
       "      <td>37.807225</td>\n",
       "      <td>-122.408850</td>\n",
       "      <td>936881</td>\n",
       "      <td>Subscriber</td>\n",
       "      <td>NaN</td>\n",
       "    </tr>\n",
       "    <tr>\n",
       "      <th>2506981</th>\n",
       "      <td>326</td>\n",
       "      <td>2019-12-30 20:35:43</td>\n",
       "      <td>2019-12-30 20:41:09</td>\n",
       "      <td>NaN</td>\n",
       "      <td>NaN</td>\n",
       "      <td>37.810471</td>\n",
       "      <td>-122.417386</td>\n",
       "      <td>NaN</td>\n",
       "      <td>NaN</td>\n",
       "      <td>37.803143</td>\n",
       "      <td>-122.414373</td>\n",
       "      <td>397539</td>\n",
       "      <td>Subscriber</td>\n",
       "      <td>NaN</td>\n",
       "    </tr>\n",
       "    <tr>\n",
       "      <th>2506982</th>\n",
       "      <td>4023</td>\n",
       "      <td>2019-12-31 19:26:48</td>\n",
       "      <td>2019-12-31 20:33:52</td>\n",
       "      <td>NaN</td>\n",
       "      <td>NaN</td>\n",
       "      <td>37.811042</td>\n",
       "      <td>-122.418149</td>\n",
       "      <td>NaN</td>\n",
       "      <td>NaN</td>\n",
       "      <td>37.810970</td>\n",
       "      <td>-122.418054</td>\n",
       "      <td>662304</td>\n",
       "      <td>Subscriber</td>\n",
       "      <td>NaN</td>\n",
       "    </tr>\n",
       "  </tbody>\n",
       "</table>\n",
       "<p>150102 rows × 14 columns</p>\n",
       "</div>"
      ],
      "text/plain": [
       "         duration_sec                start_time                  end_time  \\\n",
       "2356881         66600  2019-12-31 14:28:50.2860  2020-01-01 08:58:51.2500   \n",
       "2356882         36526  2019-12-31 21:52:47.7620  2020-01-01 08:01:33.9320   \n",
       "2356883          8164  2019-12-31 23:50:04.8770  2020-01-01 02:06:09.4140   \n",
       "2356884          8163  2019-12-31 23:49:21.4000  2020-01-01 02:05:24.6670   \n",
       "2356885          6847  2019-12-31 22:51:05.6850  2020-01-01 00:45:13.4860   \n",
       "...               ...                       ...                       ...   \n",
       "2506978           731       2019-12-28 18:37:29       2019-12-28 18:49:40   \n",
       "2506979           748       2019-12-28 18:37:24       2019-12-28 18:49:53   \n",
       "2506980          1044       2019-12-26 14:25:37       2019-12-26 14:43:02   \n",
       "2506981           326       2019-12-30 20:35:43       2019-12-30 20:41:09   \n",
       "2506982          4023       2019-12-31 19:26:48       2019-12-31 20:33:52   \n",
       "\n",
       "         start_station_id                            start_station_name  \\\n",
       "2356881             364.0                      China Basin St at 3rd St   \n",
       "2356882              38.0                    The Embarcadero at Pier 38   \n",
       "2356883              14.0                         Clay St at Battery St   \n",
       "2356884              14.0                         Clay St at Battery St   \n",
       "2356885               3.0  Powell St BART Station (Market St at 4th St)   \n",
       "...                   ...                                           ...   \n",
       "2506978               NaN                                           NaN   \n",
       "2506979               NaN                                           NaN   \n",
       "2506980               NaN                                           NaN   \n",
       "2506981               NaN                                           NaN   \n",
       "2506982               NaN                                           NaN   \n",
       "\n",
       "         start_station_latitude  start_station_longitude  end_station_id  \\\n",
       "2356881               37.772000              -122.389970           349.0   \n",
       "2356882               37.782926              -122.387921           410.0   \n",
       "2356883               37.795001              -122.399970             6.0   \n",
       "2356884               37.795001              -122.399970             6.0   \n",
       "2356885               37.786375              -122.404904           363.0   \n",
       "...                         ...                      ...             ...   \n",
       "2506978               37.809731              -122.409855             NaN   \n",
       "2506979               37.809768              -122.409797             NaN   \n",
       "2506980               37.810183              -122.410271             NaN   \n",
       "2506981               37.810471              -122.417386             NaN   \n",
       "2506982               37.811042              -122.418149             NaN   \n",
       "\n",
       "                                        end_station_name  \\\n",
       "2356881                             Howard St at Mary St   \n",
       "2356882                   Illinois St at Cesar Chavez St   \n",
       "2356883                    The Embarcadero at Sansome St   \n",
       "2356884                    The Embarcadero at Sansome St   \n",
       "2356885  Salesforce Transit Center (Natoma St at 2nd St)   \n",
       "...                                                  ...   \n",
       "2506978                                              NaN   \n",
       "2506979                                              NaN   \n",
       "2506980                                              NaN   \n",
       "2506981                                              NaN   \n",
       "2506982                                              NaN   \n",
       "\n",
       "         end_station_latitude  end_station_longitude  bike_id   user_type  \\\n",
       "2356881             37.781010            -122.405666    12085    Customer   \n",
       "2356882             37.750200            -122.386567     9477    Customer   \n",
       "2356883             37.804770            -122.403234    10420    Customer   \n",
       "2356884             37.804770            -122.403234     2065    Customer   \n",
       "2356885             37.787492            -122.398285    10219    Customer   \n",
       "...                       ...                    ...      ...         ...   \n",
       "2506978             37.807573            -122.421681   719651  Subscriber   \n",
       "2506979             37.807558            -122.421638   655411  Subscriber   \n",
       "2506980             37.807225            -122.408850   936881  Subscriber   \n",
       "2506981             37.803143            -122.414373   397539  Subscriber   \n",
       "2506982             37.810970            -122.418054   662304  Subscriber   \n",
       "\n",
       "        bike_share_for_all_trip  \n",
       "2356881                     NaN  \n",
       "2356882                     NaN  \n",
       "2356883                     NaN  \n",
       "2356884                     NaN  \n",
       "2356885                     NaN  \n",
       "...                         ...  \n",
       "2506978                     NaN  \n",
       "2506979                     NaN  \n",
       "2506980                     NaN  \n",
       "2506981                     NaN  \n",
       "2506982                     NaN  \n",
       "\n",
       "[150102 rows x 14 columns]"
      ]
     },
     "execution_count": 11,
     "metadata": {},
     "output_type": "execute_result"
    }
   ],
   "source": [
    "df_2019.query('start_time >= \"2019-12-01\"')"
   ]
  },
  {
   "cell_type": "code",
   "execution_count": 12,
   "metadata": {},
   "outputs": [],
   "source": [
    "df_2019.drop(columns=['start_station_name', 'start_station_id', \n",
    "                      'end_station_name', 'end_station_id', 'bike_share_for_all_trip'], inplace=True)"
   ]
  },
  {
   "cell_type": "markdown",
   "metadata": {},
   "source": [
    "drop NaN rows"
   ]
  },
  {
   "cell_type": "code",
   "execution_count": 13,
   "metadata": {},
   "outputs": [],
   "source": [
    "df_2019.dropna(axis=0, inplace=True)"
   ]
  },
  {
   "cell_type": "code",
   "execution_count": 14,
   "metadata": {},
   "outputs": [
    {
     "name": "stdout",
     "output_type": "stream",
     "text": [
      "<class 'pandas.core.frame.DataFrame'>\n",
      "Int64Index: 2506983 entries, 0 to 2506982\n",
      "Data columns (total 9 columns):\n",
      " #   Column                   Non-Null Count    Dtype  \n",
      "---  ------                   --------------    -----  \n",
      " 0   duration_sec             2506983 non-null  int64  \n",
      " 1   start_time               2506983 non-null  object \n",
      " 2   end_time                 2506983 non-null  object \n",
      " 3   start_station_latitude   2506983 non-null  float64\n",
      " 4   start_station_longitude  2506983 non-null  float64\n",
      " 5   end_station_latitude     2506983 non-null  float64\n",
      " 6   end_station_longitude    2506983 non-null  float64\n",
      " 7   bike_id                  2506983 non-null  int64  \n",
      " 8   user_type                2506983 non-null  object \n",
      "dtypes: float64(4), int64(2), object(3)\n",
      "memory usage: 191.3+ MB\n"
     ]
    }
   ],
   "source": [
    "df_2019.info(verbose=True, null_counts=True)"
   ]
  },
  {
   "cell_type": "code",
   "execution_count": 15,
   "metadata": {},
   "outputs": [],
   "source": [
    "### convert the date columns in date format\n",
    "time_cols = ['start_time', 'end_time']\n",
    "\n",
    "for i in time_cols:\n",
    "    df_2019[i] = pd.to_datetime(df_2019[i])"
   ]
  },
  {
   "cell_type": "code",
   "execution_count": 16,
   "metadata": {},
   "outputs": [],
   "source": [
    "# Creat month columns to help in the visualizations\n",
    "import calendar\n",
    "df_2019['start_month'] = (df_2019['start_time'].dt.month).apply(lambda x: calendar.month_abbr[x])\n",
    "df_2019['end_month'] = (df_2019['end_time'].dt.month).apply(lambda x: calendar.month_abbr[x])"
   ]
  },
  {
   "cell_type": "code",
   "execution_count": 17,
   "metadata": {},
   "outputs": [],
   "source": [
    "# Function to transform duration in seconds into categorical interval\n",
    "def duration_interval(row):\n",
    "    if row['duration_sec'] <= 900:\n",
    "        return '0 to 15min'\n",
    "    elif row['duration_sec'] <= 1800:\n",
    "        return '15min to 30min'\n",
    "    elif row['duration_sec'] <= 3600:\n",
    "        return '30min to 1hr'\n",
    "    else:\n",
    "        return 'more than 1hr'"
   ]
  },
  {
   "cell_type": "code",
   "execution_count": 18,
   "metadata": {},
   "outputs": [],
   "source": [
    "df_2019['day_of_week'] = df_2019['start_time'].dt.day_name()"
   ]
  },
  {
   "cell_type": "code",
   "execution_count": 19,
   "metadata": {},
   "outputs": [],
   "source": [
    "#function that identifies if the day is weekday or weekend\n",
    "def weekend(day):\n",
    "    if day['day_of_week'] == 'Saturday':\n",
    "        return 'Weekend'\n",
    "    elif day['day_of_week'] == 'Sunday':\n",
    "        return 'Weekend'\n",
    "    else:\n",
    "        return 'Weekday'"
   ]
  },
  {
   "cell_type": "code",
   "execution_count": 97,
   "metadata": {},
   "outputs": [
    {
     "name": "stdout",
     "output_type": "stream",
     "text": [
      "<class 'pandas.core.frame.DataFrame'>\n",
      "Int64Index: 2506983 entries, 0 to 2506982\n",
      "Data columns (total 14 columns):\n",
      " #   Column                   Dtype         \n",
      "---  ------                   -----         \n",
      " 0   duration_sec             int64         \n",
      " 1   start_time               datetime64[ns]\n",
      " 2   end_time                 datetime64[ns]\n",
      " 3   start_station_latitude   float64       \n",
      " 4   start_station_longitude  float64       \n",
      " 5   end_station_latitude     float64       \n",
      " 6   end_station_longitude    float64       \n",
      " 7   bike_id                  int64         \n",
      " 8   user_type                object        \n",
      " 9   start_month              object        \n",
      " 10  end_month                object        \n",
      " 11  day_of_week              object        \n",
      " 12  Week_class               object        \n",
      " 13  duration_interval        object        \n",
      "dtypes: datetime64[ns](2), float64(4), int64(2), object(6)\n",
      "memory usage: 286.9+ MB\n"
     ]
    }
   ],
   "source": [
    "df_2019.info()"
   ]
  },
  {
   "cell_type": "code",
   "execution_count": 20,
   "metadata": {},
   "outputs": [],
   "source": [
    "df_2019['Week_class'] = df_2019.apply(weekend, axis=1)"
   ]
  },
  {
   "cell_type": "code",
   "execution_count": 21,
   "metadata": {},
   "outputs": [],
   "source": [
    "df_2019['duration_interval'] =  df_2019.apply(duration_interval, axis=1)"
   ]
  },
  {
   "cell_type": "code",
   "execution_count": 99,
   "metadata": {},
   "outputs": [],
   "source": [
    "# Function that gives the station of the bike use date\n",
    "def season_station(var):\n",
    "    if var >= pd.Timestamp('2019-03-20') and var < pd.Timestamp('2019-06-21'):\n",
    "        return 'Spring'\n",
    "    elif var >= pd.Timestamp('2019-06-21') and var < pd.Timestamp('2019-09-23'):\n",
    "        return 'Summer'\n",
    "    elif var >= pd.Timestamp('2019-09-23') and var < pd.Timestamp('2019-12-21'):\n",
    "        return 'Fall'\n",
    "    else:\n",
    "        return 'Winter'"
   ]
  },
  {
   "cell_type": "code",
   "execution_count": 100,
   "metadata": {},
   "outputs": [],
   "source": [
    "df_2019['season'] = df_2019[\"start_time\"].map(season_station)"
   ]
  },
  {
   "cell_type": "code",
   "execution_count": 24,
   "metadata": {},
   "outputs": [
    {
     "data": {
      "text/plain": [
       "(2506983, 14)"
      ]
     },
     "execution_count": 24,
     "metadata": {},
     "output_type": "execute_result"
    }
   ],
   "source": [
    "df_2019.shape"
   ]
  },
  {
   "cell_type": "markdown",
   "metadata": {},
   "source": [
    "### What is the structure of your dataset?\n",
    "\n",
    "> There are 2,506,983 rows about bike uses in the year of 2019. Most of the variables are qualitative, although there are some quantitative like duration in seconds, lagitude and longitude.\n",
    "\n",
    "### What is/are the main feature(s) of interest in your dataset?\n",
    "\n",
    "> The duration in seconds, and the qualitative variables like months, user type, weekday and season\n",
    "\n",
    "### What features in the dataset do you think will help support your investigation into your feature(s) of interest?\n",
    "\n",
    "> I expect to find a huge sazonality in the data, I believe that the summer months will have a higher peak and also in the weekends will have more use and for longer durations."
   ]
  },
  {
   "cell_type": "markdown",
   "metadata": {},
   "source": [
    "## Univariate Exploration"
   ]
  },
  {
   "cell_type": "code",
   "execution_count": 36,
   "metadata": {},
   "outputs": [
    {
     "data": {
      "image/png": "[encoded data removed]",
      "text/plain": [
       "<Figure size 1080x360 with 2 Axes>"
      ]
     },
     "metadata": {
      "needs_background": "light"
     },
     "output_type": "display_data"
    }
   ],
   "source": [
    "#bar chart for the distribution along the months\n",
    "plt.figure(figsize = [15, 5])\n",
    "base_color = sns.color_palette()\n",
    "month_order = ['Jan', 'Feb', 'Mar', 'Apr', 'May', 'Jun', 'Jul', 'Aug', 'Sep', 'Oct', 'Nov', 'Dec']\n",
    "day_order = ['Monday', 'Tuesday', 'Wednesday', 'Thursday', 'Friday', 'Saturday', 'Sunday']\n",
    "\n",
    "plt.subplot(1, 2, 1)\n",
    "sns.countplot(data = df_2019, x='start_month', order=month_order, color=base_color[0]);\n",
    "plt.title('Use of bike along the months');\n",
    "\n",
    "plt.subplot(1, 2, 2)\n",
    "sns.countplot(data = df_2019, x='day_of_week', order=day_order, color=base_color[0]);\n",
    "plt.title('User by day');"
   ]
  },
  {
   "cell_type": "code",
   "execution_count": 107,
   "metadata": {},
   "outputs": [
    {
     "data": {
      "image/png": "[encoded data removed]",
      "text/plain": [
       "<Figure size 1080x360 with 2 Axes>"
      ]
     },
     "metadata": {
      "needs_background": "light"
     },
     "output_type": "display_data"
    }
   ],
   "source": [
    "#Type of the users\n",
    "plt.figure(figsize=[15, 5])\n",
    "season_order = ['Spring', 'Summer', 'Fall', 'Winter']\n",
    "\n",
    "plt.subplot(1, 2, 1)\n",
    "df_2019.user_type.value_counts().plot(kind='pie');\n",
    "plt.title('Type of users');\n",
    "\n",
    "plt.subplot(1, 2, 2)\n",
    "sns.countplot(data = df_2019, x='season', order=season_order, color=base_color[4]);\n",
    "plt.title('Seasons');"
   ]
  },
  {
   "cell_type": "markdown",
   "metadata": {},
   "source": [
    "### Discuss the distribution(s) of your variable(s) of interest. Were there any unusual points? Did you need to perform any transformations?\n",
    "\n",
    "The weekends had less bike use than the weekdays, I didn't have to perform any transformation.\n",
    "\n",
    "### Of the features you investigated, were there any unusual distributions? Did you perform any operations on the data to tidy, adjust, or change the form of the data? If so, why did you do this?\n",
    "\n",
    "When investigating the duration in seconds I found out that there were some outliers, so I selected data that is less than 2500 seconds to make the visualizations more clear."
   ]
  },
  {
   "cell_type": "markdown",
   "metadata": {},
   "source": [
    "## Bivariate Explorations"
   ]
  },
  {
   "cell_type": "code",
   "execution_count": 27,
   "metadata": {},
   "outputs": [],
   "source": [
    "numeric_vars = ['duration_sec', 'start_station_latitude', \n",
    "                'start_station_longitude', 'end_station_latitude', 'end_station_longitude']\n",
    "categorical_vars = ['start_month', 'end_month', 'bike_id', 'user_type', 'duration_interval']"
   ]
  },
  {
   "cell_type": "code",
   "execution_count": 28,
   "metadata": {},
   "outputs": [
    {
     "data": {
      "image/png": "[encoded data removed]",
      "text/plain": [
       "<Figure size 576x360 with 2 Axes>"
      ]
     },
     "metadata": {
      "needs_background": "light"
     },
     "output_type": "display_data"
    }
   ],
   "source": [
    "plt.figure(figsize = [8, 5])\n",
    "sns.heatmap(df_2019[numeric_vars].corr(), annot = True, fmt = '.3f',\n",
    "           cmap = 'vlag_r', center = 0)\n",
    "plt.show()"
   ]
  },
  {
   "cell_type": "code",
   "execution_count": 29,
   "metadata": {},
   "outputs": [
    {
     "data": {
      "text/html": [
       "<div>\n",
       "<style scoped>\n",
       "    .dataframe tbody tr th:only-of-type {\n",
       "        vertical-align: middle;\n",
       "    }\n",
       "\n",
       "    .dataframe tbody tr th {\n",
       "        vertical-align: top;\n",
       "    }\n",
       "\n",
       "    .dataframe thead th {\n",
       "        text-align: right;\n",
       "    }\n",
       "</style>\n",
       "<table border=\"1\" class=\"dataframe\">\n",
       "  <thead>\n",
       "    <tr style=\"text-align: right;\">\n",
       "      <th></th>\n",
       "      <th>duration_sec</th>\n",
       "      <th>start_time</th>\n",
       "      <th>end_time</th>\n",
       "      <th>start_station_latitude</th>\n",
       "      <th>start_station_longitude</th>\n",
       "      <th>end_station_latitude</th>\n",
       "      <th>end_station_longitude</th>\n",
       "      <th>bike_id</th>\n",
       "      <th>user_type</th>\n",
       "      <th>start_month</th>\n",
       "      <th>end_month</th>\n",
       "      <th>day_of_week</th>\n",
       "      <th>Week_class</th>\n",
       "      <th>duration_interval</th>\n",
       "    </tr>\n",
       "  </thead>\n",
       "  <tbody>\n",
       "    <tr>\n",
       "      <th>2481276</th>\n",
       "      <td>912110</td>\n",
       "      <td>2019-12-19 23:15:36</td>\n",
       "      <td>2019-12-30 12:37:26</td>\n",
       "      <td>37.323757</td>\n",
       "      <td>-121.878614</td>\n",
       "      <td>37.327656</td>\n",
       "      <td>-121.868598</td>\n",
       "      <td>614329</td>\n",
       "      <td>Customer</td>\n",
       "      <td>Dec</td>\n",
       "      <td>Dec</td>\n",
       "      <td>Thursday</td>\n",
       "      <td>Weekday</td>\n",
       "      <td>more than 1hr</td>\n",
       "    </tr>\n",
       "  </tbody>\n",
       "</table>\n",
       "</div>"
      ],
      "text/plain": [
       "         duration_sec          start_time            end_time  \\\n",
       "2481276        912110 2019-12-19 23:15:36 2019-12-30 12:37:26   \n",
       "\n",
       "         start_station_latitude  start_station_longitude  \\\n",
       "2481276               37.323757              -121.878614   \n",
       "\n",
       "         end_station_latitude  end_station_longitude  bike_id user_type  \\\n",
       "2481276             37.327656            -121.868598   614329  Customer   \n",
       "\n",
       "        start_month end_month day_of_week Week_class duration_interval  \n",
       "2481276         Dec       Dec    Thursday    Weekday     more than 1hr  "
      ]
     },
     "execution_count": 29,
     "metadata": {},
     "output_type": "execute_result"
    }
   ],
   "source": [
    "df_2019.query('duration_sec == 912110')"
   ]
  },
  {
   "cell_type": "code",
   "execution_count": 111,
   "metadata": {},
   "outputs": [
    {
     "data": {
      "image/png": "[encoded data removed]",
      "text/plain": [
       "<Figure size 1080x360 with 2 Axes>"
      ]
     },
     "metadata": {
      "needs_background": "light"
     },
     "output_type": "display_data"
    }
   ],
   "source": [
    "plt.figure(figsize=[15, 5])\n",
    "\n",
    "plt.subplot(1, 2, 1)\n",
    "duration = df_2019.query('duration_sec <= 2500')\n",
    "sns.violinplot(data = duration, x = 'user_type', y = 'duration_sec');\n",
    "plt.title('Violinplot for user type and duration in seconds');\n",
    "\n",
    "plt.subplot(1, 2, 2)\n",
    "sns.boxplot(data = duration, x = 'day_of_week', y = 'duration_sec', order=day_order);"
   ]
  },
  {
   "cell_type": "code",
   "execution_count": 121,
   "metadata": {},
   "outputs": [
    {
     "data": {
      "image/png": "[encoded data removed]",
      "text/plain": [
       "<Figure size 1080x360 with 2 Axes>"
      ]
     },
     "metadata": {
      "needs_background": "light"
     },
     "output_type": "display_data"
    }
   ],
   "source": [
    "plt.figure(figsize=[15, 5])\n",
    "\n",
    "plt.subplot(1, 2, 1)\n",
    "duration = df_2019.query('duration_sec <= 2500')\n",
    "sns.boxplot(data = duration, x = 'season', y = 'duration_sec', order=season_order);\n",
    "plt.title('Violinplot for season and duration in seconds');\n",
    "\n",
    "plt.subplot(1, 2, 2)\n",
    "sns.countplot(data = df_2019, x = 'season', hue = 'user_type', order=season_order);\n",
    "plt.title('User type along the seasons');"
   ]
  },
  {
   "cell_type": "markdown",
   "metadata": {},
   "source": [
    "### Talk about some of the relationships you observed in this part of the investigation. How did the feature(s) of interest vary with other features in the dataset?\n",
    "\n",
    "The main observations I can make so far is that: \n",
    "\n",
    "Most of users are subscribers. Although must of the users are subscribers, the customer type user spend in average more time using the bikes.\n",
    "\n",
    "Most of the users users keep the bikes for 15 minutes or less.\n",
    "\n",
    "The months with more uses are March, April, July and October.\n",
    "\n",
    "Summer and Spring are the seasons with more uses, but in the Fall people spend more time using the bikes than in the spring."
   ]
  },
  {
   "cell_type": "markdown",
   "metadata": {},
   "source": [
    "## Multivariate Exploration"
   ]
  },
  {
   "cell_type": "code",
   "execution_count": 32,
   "metadata": {},
   "outputs": [
    {
     "data": {
      "image/png": "[encoded data removed]",
      "text/plain": [
       "<Figure size 1080x360 with 1 Axes>"
      ]
     },
     "metadata": {
      "needs_background": "light"
     },
     "output_type": "display_data"
    }
   ],
   "source": [
    "plt.figure(figsize = [15, 5])\n",
    "ax = sns.barplot(data = duration, x = 'start_month', y = 'duration_sec', hue = 'user_type')\n",
    "ax.legend(loc = 8, ncol = 3, framealpha = 1, title = 'User Type');\n",
    "plt.title('User type duration along the months');"
   ]
  },
  {
   "cell_type": "code",
   "execution_count": 115,
   "metadata": {},
   "outputs": [
    {
     "data": {
      "image/png": "[encoded data removed]",
      "text/plain": [
       "<Figure size 1080x360 with 1 Axes>"
      ]
     },
     "metadata": {
      "needs_background": "light"
     },
     "output_type": "display_data"
    }
   ],
   "source": [
    "plt.figure(figsize = [15, 5])\n",
    "ax = sns.barplot(data = duration, x = 'day_of_week', y = 'duration_sec', hue = 'season', order=day_order)\n",
    "ax.legend(loc = 8, ncol = 4, framealpha = 1, title = 'Season');\n",
    "plt.title('Duration by season along weekdays');"
   ]
  },
  {
   "cell_type": "markdown",
   "metadata": {},
   "source": [
    "### Talk about some of the relationships you observed in this part of the investigation. Were there features that strengthened each other in terms of looking at your feature(s) of interest?\n",
    "\n",
    "I extended my investigation of duration against season, week day and user type. I found out that there is more users in the Summer and Spring, and also in the weekdays instead of weekend. But users spend more time during Summer and Fall and Saturday and Sunday. And although there are much more subscribers type, the customer type of user spend more time in the bikes.\n",
    "\n",
    "### Were there any interesting or surprising interactions between features?\n",
    "\n",
    "The duration in the Fall beeing more influent than in the spring was very curious, and also how customer spend more time than the subscribers."
   ]
  },
  {
   "cell_type": "markdown",
   "metadata": {},
   "source": [
    "## Sources\n",
    "\n",
    "https://stackoverflow.com/questions/9419162/download-returned-zip-file-from-url\n",
    "\n",
    "Udacity menotor questions"
   ]
  }
 ],
 "metadata": {
  "kernelspec": {
   "display_name": "Python 3",
   "language": "python",
   "name": "python3"
  },
  "language_info": {
   "codemirror_mode": {
    "name": "ipython",
    "version": 3
   },
   "file_extension": ".py",
   "mimetype": "text/x-python",
   "name": "python",
   "nbconvert_exporter": "python",
   "pygments_lexer": "ipython3",
   "version": "3.7.6"
  }
 },
 "nbformat": 4,
 "nbformat_minor": 4
}
